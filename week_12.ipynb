{
 "cells": [
  {
   "cell_type": "markdown",
   "id": "aa9b8ec1",
   "metadata": {},
   "source": [
    "제가 늦은 적은 있어도 빼먹은 적은 없었던 것 같은데 다른 학우분들은 제목이 week_12 더라고요.. 지난주차 내용은 똑같은데 제가 파일 이름이 하나씩 밀린 것 같아 우선 11을 건너뛰고 12로 제목을 지었습니다."
   ]
  },
  {
   "cell_type": "markdown",
   "id": "8835d1ac",
   "metadata": {},
   "source": [
    "asterisk (*)\n",
    "\n",
    "- *\n",
    "    - 함수의 인자에 붙일때 튜플로 묶어서 활용\n",
    "    - print에 붙이면 언패킹\n",
    "    - 기존에는 붙이지 않을 경우 오류가 날 수 있음\n",
    "    - args는 *args로 가져가 언패킹해주는 것이 컨벤션\n",
    "\n",
    "- **\n",
    "    - 튜플이 아닌 딕셔너리로 묶음\n",
    "    - 언패킹 기능은 따로 없음. (딕셔너리 - key : value 구조)"
   ]
  },
  {
   "cell_type": "code",
   "execution_count": 11,
   "id": "b6c01a3a",
   "metadata": {},
   "outputs": [
    {
     "name": "stdout",
     "output_type": "stream",
     "text": [
      "my name is jongbeen song\n"
     ]
    }
   ],
   "source": [
    "def print_elements(args):\n",
    "    print(args)\n",
    " \n",
    "print_elements('my name is jongbeen song')"
   ]
  },
  {
   "cell_type": "code",
   "execution_count": 12,
   "id": "d59369fc",
   "metadata": {},
   "outputs": [
    {
     "ename": "TypeError",
     "evalue": "print_elements() takes 1 positional argument but 2 were given",
     "output_type": "error",
     "traceback": [
      "\u001b[1;31m---------------------------------------------------------------------------\u001b[0m",
      "\u001b[1;31mTypeError\u001b[0m                                 Traceback (most recent call last)",
      "\u001b[1;32mC:\\Users\\SONGJO~1\\AppData\\Local\\Temp/ipykernel_7612/548522560.py\u001b[0m in \u001b[0;36m<module>\u001b[1;34m\u001b[0m\n\u001b[1;32m----> 1\u001b[1;33m \u001b[0mprint_elements\u001b[0m\u001b[1;33m(\u001b[0m\u001b[1;34m'my name is jongbeen song'\u001b[0m\u001b[1;33m,\u001b[0m \u001b[1;34m'your name is chanho park'\u001b[0m\u001b[1;33m)\u001b[0m \u001b[1;31m# 이러면 오류가 남\u001b[0m\u001b[1;33m\u001b[0m\u001b[1;33m\u001b[0m\u001b[0m\n\u001b[0m",
      "\u001b[1;31mTypeError\u001b[0m: print_elements() takes 1 positional argument but 2 were given"
     ]
    }
   ],
   "source": [
    "print_elements('my name is jongbeen song', 'your name is chanho park') # 이러면 오류가 남"
   ]
  },
  {
   "cell_type": "code",
   "execution_count": 13,
   "id": "fd8285e2",
   "metadata": {},
   "outputs": [],
   "source": [
    "def print_elements(*args):\n",
    "    print(args)"
   ]
  },
  {
   "cell_type": "code",
   "execution_count": 14,
   "id": "8071bc38",
   "metadata": {},
   "outputs": [
    {
     "name": "stdout",
     "output_type": "stream",
     "text": [
      "('my name is jongbeen song', 'your name is chanho park')\n"
     ]
    }
   ],
   "source": [
    "print_elements('my name is jongbeen song', 'your name is chanho park') # 튜블로 인자 들어감"
   ]
  },
  {
   "cell_type": "code",
   "execution_count": 15,
   "id": "46d07395",
   "metadata": {},
   "outputs": [
    {
     "name": "stdout",
     "output_type": "stream",
     "text": [
      "my name is jongbeen song your name is chanho park\n"
     ]
    }
   ],
   "source": [
    "def unpacking_elements(*args):\n",
    "    print(*args)\n",
    "    \n",
    "unpacking_elements('my name is jongbeen song', 'your name is chanho park')"
   ]
  },
  {
   "cell_type": "code",
   "execution_count": 21,
   "id": "83f86a7a",
   "metadata": {},
   "outputs": [
    {
     "name": "stdout",
     "output_type": "stream",
     "text": [
      "your name is jongbeen song\n",
      "1 2 3 4\n"
     ]
    }
   ],
   "source": [
    "def print_two_arguments(name, *args):\n",
    "    print(f'your name is {name}')\n",
    "    print(*args)\n",
    "    \n",
    "print_two_arguments('jongbeen song', 1, 2, 3, 4)"
   ]
  },
  {
   "cell_type": "code",
   "execution_count": 22,
   "id": "453135a5",
   "metadata": {},
   "outputs": [],
   "source": [
    "nvm = (1, 2, 3, 4)"
   ]
  },
  {
   "cell_type": "code",
   "execution_count": 23,
   "id": "b5f02094",
   "metadata": {},
   "outputs": [
    {
     "name": "stdout",
     "output_type": "stream",
     "text": [
      "your name is jongbeen song\n",
      "(1, 2, 3, 4)\n"
     ]
    }
   ],
   "source": [
    "print_two_arguments('jongbeen song', nvm)"
   ]
  },
  {
   "cell_type": "code",
   "execution_count": 24,
   "id": "bd701c4f",
   "metadata": {},
   "outputs": [
    {
     "name": "stdout",
     "output_type": "stream",
     "text": [
      "your name is jongbeen song\n",
      "(1, 2, 3, 4)\n",
      "your name is chanho park\n",
      "(1, 2, 3, 4)\n"
     ]
    }
   ],
   "source": [
    "student_1 = print_two_arguments('jongbeen song', nvm)\n",
    "student_2 = print_two_arguments('chanho park', nvm)"
   ]
  },
  {
   "cell_type": "markdown",
   "id": "c1b65642",
   "metadata": {},
   "source": [
    "외부에서 활용하기\n",
    "- kargs\n",
    "    - 컬렉션 자료형을 언패킹\n",
    "\n",
    "- 컬렉션 자료형 : list, tuple, set, dict, ...\n",
    "    - zip()과도 많이 활용한다.\n",
    "    - 키워드 전용 인수 선언 시 활용\n",
    "\n",
    "- 키워드: 특별한 의미를 가진 용어들 def, False 등\n",
    "    - 별 뒤에 오는 매개변수들은 반드시 키워드 인수로 들어오도록 설정해줌\n",
    "    - kargs와 혼선을 빚지 않기 위해 사용\n",
    "        - kargs = keyword arguments\n",
    "        - 키워드 = 특정값 형태로 딕셔너리로 전달 가능"
   ]
  },
  {
   "cell_type": "code",
   "execution_count": 25,
   "id": "8fa690a6",
   "metadata": {},
   "outputs": [
    {
     "name": "stdout",
     "output_type": "stream",
     "text": [
      "{0, 1, 2}\n",
      "0 1 2\n"
     ]
    }
   ],
   "source": [
    "args = set(range(3))\n",
    "\n",
    "print(args)\n",
    "print(*args)"
   ]
  },
  {
   "cell_type": "code",
   "execution_count": 26,
   "id": "ab24a888",
   "metadata": {},
   "outputs": [
    {
     "name": "stdout",
     "output_type": "stream",
     "text": [
      "car\n",
      "drive\n",
      "stop\n",
      "turn\n"
     ]
    }
   ],
   "source": [
    "args = [\n",
    "    ['car','hyundai'], \n",
    "    ['drive', 'car is driving forward'], \n",
    "    ['stop', ' car is stopping'], \n",
    "    ['turn' , 'car is turning left/right']\n",
    "]\n",
    "\n",
    "for function in args:\n",
    "    print(function[0])"
   ]
  },
  {
   "cell_type": "code",
   "execution_count": 27,
   "id": "324abbe1",
   "metadata": {},
   "outputs": [
    {
     "name": "stdout",
     "output_type": "stream",
     "text": [
      "('car', 'drive', 'stop', 'turn')\n",
      "('hyundai', 'car is driving forward', ' car is stopping', 'car is turning left/right')\n"
     ]
    }
   ],
   "source": [
    "for row in zip(*args):\n",
    "    print(row)"
   ]
  },
  {
   "cell_type": "code",
   "execution_count": 28,
   "id": "52f969d4",
   "metadata": {},
   "outputs": [
    {
     "name": "stdout",
     "output_type": "stream",
     "text": [
      "1\n",
      "2\n"
     ]
    }
   ],
   "source": [
    "nvm = list(range(5))\n",
    "\n",
    "def print_data(data, *, start, end): #start, end -> start = 0\n",
    "    for value in data[start:end]:\n",
    "        print(value)\n",
    "\n",
    "print_data(nvm, start = 1, end =3) # print_data(nvm) 으로 출력 X"
   ]
  },
  {
   "cell_type": "markdown",
   "id": "01e008ba",
   "metadata": {},
   "source": [
    "# **"
   ]
  },
  {
   "cell_type": "code",
   "execution_count": 30,
   "id": "afe5d934",
   "metadata": {},
   "outputs": [
    {
     "name": "stdout",
     "output_type": "stream",
     "text": [
      "{'university': '한국외대', 'major': 'ELLT'}\n",
      "my university is 한국외대\n"
     ]
    }
   ],
   "source": [
    "def print_kargs(**kargs):\n",
    "    print(kargs)\n",
    "    univ = kargs['university']\n",
    "    print(f'my university is {univ}')\n",
    "    \n",
    "print_kargs(university = '한국외대', major = 'ELLT')"
   ]
  },
  {
   "cell_type": "code",
   "execution_count": 31,
   "id": "ffb65167",
   "metadata": {},
   "outputs": [
    {
     "name": "stdout",
     "output_type": "stream",
     "text": [
      "{'major': 'ELLT', 'university': '한국외대'}\n",
      "my university is 한국외대\n",
      "{'major': 'EICC', 'university': '한국외대'}\n",
      "my university is 한국외대\n",
      "{'major': 'ELC', 'university': '한국외대'}\n",
      "my university is 한국외대\n"
     ]
    }
   ],
   "source": [
    "major_list = 'ELLT, EICC, ELC'.split(', ')\n",
    "\n",
    "for major in major_list:\n",
    "    print_kargs(major = major, university = '한국외대')"
   ]
  },
  {
   "cell_type": "code",
   "execution_count": 32,
   "id": "8a845552",
   "metadata": {},
   "outputs": [
    {
     "name": "stdout",
     "output_type": "stream",
     "text": [
      "15\n",
      "{'first': 1, 'second': 2}\n"
     ]
    }
   ],
   "source": [
    "def print_both(one, two, *args, **kargs):\n",
    "    print(one + two + sum(args))\n",
    "    print(kargs)\n",
    "    \n",
    "print_both(1, 2, 3, 4, 5, first = 1, second = 2)"
   ]
  },
  {
   "cell_type": "code",
   "execution_count": 33,
   "id": "53f1098c",
   "metadata": {},
   "outputs": [
    {
     "data": {
      "text/plain": [
       "{1: 'a', 2: 'c', 3: 'd'}"
      ]
     },
     "execution_count": 33,
     "metadata": {},
     "output_type": "execute_result"
    }
   ],
   "source": [
    "x = {1:'a', 2:'b'}\n",
    "y = {2: 'c', 3:'d'}\n",
    "z = {**x, **y}\n",
    "\n",
    "z"
   ]
  },
  {
   "cell_type": "markdown",
   "id": "8234c2fc",
   "metadata": {},
   "source": [
    "일급 객체\n",
    "- first class object, first class citizenn\n",
    "    - 파이썬에서는 함수도 객체\n",
    "- 일급객체의 성질\n",
    "    - 함수의 인자로 전달 가능\n",
    "    - 변환값이 될 수 있음 (return)\n",
    "    - 수정, 할당될 수 있음"
   ]
  },
  {
   "cell_type": "code",
   "execution_count": 38,
   "id": "5fb00e89",
   "metadata": {},
   "outputs": [
    {
     "name": "stdout",
     "output_type": "stream",
     "text": [
      "4\n"
     ]
    }
   ],
   "source": [
    "import random\n",
    "\n",
    "def get_num():\n",
    "    print(random.randint(1,10))\n",
    "\n",
    "# 파이썬에서만 가능\n",
    "def run_func(func):\n",
    "    func()\n",
    "    \n",
    "run_func(get_num)"
   ]
  },
  {
   "cell_type": "code",
   "execution_count": 46,
   "id": "ee582cab",
   "metadata": {},
   "outputs": [
    {
     "name": "stdout",
     "output_type": "stream",
     "text": [
      "3\n"
     ]
    }
   ],
   "source": [
    "def run_anything(func):\n",
    "    return func\n",
    "\n",
    "run_anything(get_num)() #괄호를 붙이면 함수가 실행된다.  함수로 받아서 실행 하는 것. "
   ]
  },
  {
   "cell_type": "code",
   "execution_count": 47,
   "id": "2cdb96fb",
   "metadata": {},
   "outputs": [
    {
     "data": {
      "text/plain": [
       "15"
      ]
     },
     "execution_count": 47,
     "metadata": {},
     "output_type": "execute_result"
    }
   ],
   "source": [
    "def sum_args(*args):\n",
    "    return sum(args)\n",
    "\n",
    "def run_with_positional_args(func, *args):\n",
    "    return func(*args)\n",
    "\n",
    "run_with_positional_args(sum_args, 1, 2, 3, 4, 5)"
   ]
  },
  {
   "cell_type": "code",
   "execution_count": 48,
   "id": "c2d87e3d",
   "metadata": {},
   "outputs": [
    {
     "data": {
      "text/plain": [
       "[1, 3, 5, 9]"
      ]
     },
     "execution_count": 48,
     "metadata": {},
     "output_type": "execute_result"
    }
   ],
   "source": [
    "def func(num_list):\n",
    "    sum_num = sum(num_list)\n",
    "    num_list.append(sum_num)\n",
    "    \n",
    "nvm = [1, 3, 5]\n",
    "func(nvm)\n",
    "nvm"
   ]
  },
  {
   "cell_type": "code",
   "execution_count": 49,
   "id": "5766db7d",
   "metadata": {},
   "outputs": [
    {
     "data": {
      "text/plain": [
       "[1, 3, 5, 9, 18]"
      ]
     },
     "execution_count": 49,
     "metadata": {},
     "output_type": "execute_result"
    }
   ],
   "source": [
    "func(nvm)\n",
    "nvm # 이렇게 초기화되지 않고 누적"
   ]
  },
  {
   "cell_type": "markdown",
   "id": "154a9aaf",
   "metadata": {},
   "source": [
    "익명함수 람다\n",
    "- lambda\n",
    "    - 이름 없는 함수(def, retun이 없음)\n",
    "    - 사용: 단순하여 이름 적는 것이 낭비일 시 사용\n",
    "    - 많이 단순하지 않다면 쓰지 않기를 권함\n",
    "        - 직관성이 낮고, 이름이 없기 때문에 재활용이 불가능하기 때문\n",
    "    - 문법: lambda x:<x 관련 코드>"
   ]
  },
  {
   "cell_type": "code",
   "execution_count": 51,
   "id": "13c35ba2",
   "metadata": {},
   "outputs": [
    {
     "data": {
      "text/plain": [
       "'ok'"
      ]
     },
     "execution_count": 51,
     "metadata": {},
     "output_type": "execute_result"
    }
   ],
   "source": [
    "def f1(x):\n",
    "    return x.lower()\n",
    "\n",
    "f2 = lambda x: x.lower()\n",
    "\n",
    "f1('OK')"
   ]
  },
  {
   "cell_type": "code",
   "execution_count": 52,
   "id": "7c351360",
   "metadata": {},
   "outputs": [
    {
     "data": {
      "text/plain": [
       "'ok'"
      ]
     },
     "execution_count": 52,
     "metadata": {},
     "output_type": "execute_result"
    }
   ],
   "source": [
    "f2('OK')"
   ]
  },
  {
   "cell_type": "code",
   "execution_count": 53,
   "id": "5151ca24",
   "metadata": {},
   "outputs": [
    {
     "data": {
      "text/plain": [
       "'ok'"
      ]
     },
     "execution_count": 53,
     "metadata": {},
     "output_type": "execute_result"
    }
   ],
   "source": [
    "(lambda x: x.lower())(\"OK\")"
   ]
  },
  {
   "cell_type": "code",
   "execution_count": 54,
   "id": "5267f7cd",
   "metadata": {},
   "outputs": [
    {
     "data": {
      "text/plain": [
       "101"
      ]
     },
     "execution_count": 54,
     "metadata": {},
     "output_type": "execute_result"
    }
   ],
   "source": [
    "(lambda y: y+1)(100)"
   ]
  },
  {
   "cell_type": "code",
   "execution_count": 55,
   "id": "04d09091",
   "metadata": {},
   "outputs": [
    {
     "data": {
      "text/plain": [
       "'ABC!'"
      ]
     },
     "execution_count": 55,
     "metadata": {},
     "output_type": "execute_result"
    }
   ],
   "source": [
    "f4 = lambda x : x.upper()+'!'\n",
    "f4(\"abc\")"
   ]
  },
  {
   "cell_type": "code",
   "execution_count": 56,
   "id": "be13bda4",
   "metadata": {},
   "outputs": [
    {
     "data": {
      "text/plain": [
       "'ABC!'"
      ]
     },
     "execution_count": 56,
     "metadata": {},
     "output_type": "execute_result"
    }
   ],
   "source": [
    "(lambda x: x.upper() + '!')(\"abc\")"
   ]
  },
  {
   "cell_type": "code",
   "execution_count": null,
   "id": "b69a1804",
   "metadata": {},
   "outputs": [],
   "source": []
  }
 ],
 "metadata": {
  "kernelspec": {
   "display_name": "Python 3 (ipykernel)",
   "language": "python",
   "name": "python3"
  },
  "language_info": {
   "codemirror_mode": {
    "name": "ipython",
    "version": 3
   },
   "file_extension": ".py",
   "mimetype": "text/x-python",
   "name": "python",
   "nbconvert_exporter": "python",
   "pygments_lexer": "ipython3",
   "version": "3.9.7"
  }
 },
 "nbformat": 4,
 "nbformat_minor": 5
}
