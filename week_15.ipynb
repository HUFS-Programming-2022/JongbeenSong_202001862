{
 "cells": [
  {
   "cell_type": "markdown",
   "id": "231516d8",
   "metadata": {},
   "source": [
    "### 파일과 디렉터리\n",
    "- 파일: 컴퓨터를 실행할 때 가장 기본이 되는 단위\n",
    "- 디렉터리: 폴더, 파일을 논리적으로 묶어놓은 단위\n",
    "    - 지빠구리: a, b, c, ...\n",
    "- 파일 = 파일명 + 확장자 (.txt, .csv, ...)\n",
    "- 바이너리, 텍스트\n",
    "    - 바이너리: 엑셀, 워드, ...\n",
    "    - 텍스트: 바이너리 -> 문자로 변환\n",
    "        - 메모장, python, html, ...\n",
    "        - 기준: 아스키코드, 유니코드 제정(\"인코딩\")\n",
    "        - 한국어 주로 사용: utf-8\n",
    "        - 윈도우 주로 사용: cp494\n",
    "        "
   ]
  },
  {
   "cell_type": "code",
   "execution_count": 6,
   "id": "2bc2d55a",
   "metadata": {},
   "outputs": [],
   "source": [
    "f = open('test.txt', 'r')\n",
    "data = f.read()"
   ]
  },
  {
   "cell_type": "code",
   "execution_count": 7,
   "id": "51ba9662",
   "metadata": {},
   "outputs": [
    {
     "data": {
      "text/plain": [
       "\"hello world\\nI'm reading a book\""
      ]
     },
     "execution_count": 7,
     "metadata": {},
     "output_type": "execute_result"
    }
   ],
   "source": [
    "data"
   ]
  },
  {
   "cell_type": "code",
   "execution_count": 8,
   "id": "29491c06",
   "metadata": {},
   "outputs": [],
   "source": [
    "f.close()"
   ]
  },
  {
   "cell_type": "markdown",
   "id": "3ca1246b",
   "metadata": {},
   "source": [
    "with open(파일, 모드) as f:\n",
    "    ...... open 함수 기능이 유지되는 블록\n",
    "    data = f.read()\n",
    "    \n",
    "자원 해제됨 (자동)"
   ]
  },
  {
   "cell_type": "code",
   "execution_count": 9,
   "id": "b9786bd8",
   "metadata": {},
   "outputs": [
    {
     "data": {
      "text/plain": [
       "\"hello world\\nI'm reading a book\""
      ]
     },
     "execution_count": 9,
     "metadata": {},
     "output_type": "execute_result"
    }
   ],
   "source": [
    "with open('test.txt', 'r') as f:\n",
    "    data = f.read()\n",
    "    \n",
    "data"
   ]
  },
  {
   "cell_type": "code",
   "execution_count": 10,
   "id": "9fa927de",
   "metadata": {},
   "outputs": [],
   "source": [
    "# read(): str\n",
    "# readline(): 한줄씩\n",
    "# readlines(): 전체를 한줄씩 str으로 담아서 리스트에"
   ]
  },
  {
   "cell_type": "code",
   "execution_count": 11,
   "id": "f27ca4fa",
   "metadata": {},
   "outputs": [
    {
     "data": {
      "text/plain": [
       "['hello world\\n', \"I'm reading a book\"]"
      ]
     },
     "execution_count": 11,
     "metadata": {},
     "output_type": "execute_result"
    }
   ],
   "source": [
    "with open('test.txt', 'r') as f:\n",
    "    data = f.readlines()\n",
    "    \n",
    "data"
   ]
  },
  {
   "cell_type": "code",
   "execution_count": 13,
   "id": "6f74b584",
   "metadata": {},
   "outputs": [
    {
     "data": {
      "text/plain": [
       "['hello world', \"I'm reading a book\"]"
      ]
     },
     "execution_count": 13,
     "metadata": {},
     "output_type": "execute_result"
    }
   ],
   "source": [
    "with open('test.txt', 'r') as f:\n",
    "    data = f.readlines()\n",
    "    # 텍스트 정제\n",
    "    data = [line.strip() for line in data]\n",
    "    \n",
    "data"
   ]
  },
  {
   "cell_type": "code",
   "execution_count": 15,
   "id": "b2ecec7f",
   "metadata": {},
   "outputs": [
    {
     "ename": "FileNotFoundError",
     "evalue": "[Errno 2] No such file or directory: '../test2.txt'",
     "output_type": "error",
     "traceback": [
      "\u001b[1;31m---------------------------------------------------------------------------\u001b[0m",
      "\u001b[1;31mFileNotFoundError\u001b[0m                         Traceback (most recent call last)",
      "\u001b[1;32mC:\\Users\\SONGJO~1\\AppData\\Local\\Temp/ipykernel_14828/2328864944.py\u001b[0m in \u001b[0;36m<module>\u001b[1;34m\u001b[0m\n\u001b[0;32m      1\u001b[0m \u001b[0mfile\u001b[0m \u001b[1;33m=\u001b[0m \u001b[1;34m'../test2.txt'\u001b[0m\u001b[1;33m\u001b[0m\u001b[1;33m\u001b[0m\u001b[0m\n\u001b[0;32m      2\u001b[0m \u001b[1;33m\u001b[0m\u001b[0m\n\u001b[1;32m----> 3\u001b[1;33m \u001b[1;32mwith\u001b[0m \u001b[0mopen\u001b[0m\u001b[1;33m(\u001b[0m\u001b[0mfile\u001b[0m\u001b[1;33m)\u001b[0m \u001b[1;32mas\u001b[0m \u001b[0mf\u001b[0m\u001b[1;33m:\u001b[0m\u001b[1;33m\u001b[0m\u001b[1;33m\u001b[0m\u001b[0m\n\u001b[0m\u001b[0;32m      4\u001b[0m     \u001b[0mf\u001b[0m\u001b[1;33m.\u001b[0m\u001b[0mread\u001b[0m\u001b[1;33m(\u001b[0m\u001b[1;33m)\u001b[0m\u001b[1;33m\u001b[0m\u001b[1;33m\u001b[0m\u001b[0m\n",
      "\u001b[1;31mFileNotFoundError\u001b[0m: [Errno 2] No such file or directory: '../test2.txt'"
     ]
    }
   ],
   "source": [
    "file = '../test2.txt'\n",
    "\n",
    "with open(file) as f:\n",
    "    f.read()"
   ]
  },
  {
   "cell_type": "code",
   "execution_count": 16,
   "id": "09aa7e2d",
   "metadata": {},
   "outputs": [
    {
     "name": "stderr",
     "output_type": "stream",
     "text": [
      "'pwd'은(는) 내부 또는 외부 명령, 실행할 수 있는 프로그램, 또는\n",
      "배치 파일이 아닙니다.\n"
     ]
    }
   ],
   "source": [
    "!pwd"
   ]
  },
  {
   "cell_type": "markdown",
   "id": "b9ada08a",
   "metadata": {},
   "source": [
    "### . -> 현재 위치\n",
    "### .. -> 상위 디렉터리"
   ]
  },
  {
   "cell_type": "markdown",
   "id": "06bb93f1",
   "metadata": {},
   "source": [
    "# 쓰기"
   ]
  },
  {
   "cell_type": "code",
   "execution_count": 30,
   "id": "8bf5b395",
   "metadata": {},
   "outputs": [],
   "source": [
    "file = 'test3.txt'\n",
    "f = open(file, 'w', encoding='utf8')"
   ]
  },
  {
   "cell_type": "code",
   "execution_count": 31,
   "id": "213818c3",
   "metadata": {},
   "outputs": [],
   "source": [
    "for i in range(10):\n",
    "    data = f'{i}번째 줄입니다.\\n'\n",
    "    f.write(data)"
   ]
  },
  {
   "cell_type": "code",
   "execution_count": 32,
   "id": "40a25b69",
   "metadata": {},
   "outputs": [],
   "source": [
    "f.close()"
   ]
  },
  {
   "cell_type": "code",
   "execution_count": 33,
   "id": "1e3679e5",
   "metadata": {},
   "outputs": [],
   "source": [
    "f = open(file, 'a', encoding='utf8')\n",
    "print('새로운 줄 추가', file=f)"
   ]
  },
  {
   "cell_type": "code",
   "execution_count": 34,
   "id": "06e13a01",
   "metadata": {},
   "outputs": [],
   "source": [
    "f.close()"
   ]
  },
  {
   "cell_type": "markdown",
   "id": "0451518c",
   "metadata": {},
   "source": [
    "# 다른 디렉토리에 파일 쓰기\n",
    "### os"
   ]
  },
  {
   "cell_type": "code",
   "execution_count": 35,
   "id": "87c0e672",
   "metadata": {},
   "outputs": [],
   "source": [
    "import os"
   ]
  },
  {
   "cell_type": "code",
   "execution_count": 38,
   "id": "e0f02bb1",
   "metadata": {},
   "outputs": [],
   "source": [
    "# 폴더를 만들고 \n",
    "os.mkdir('folder1')\n",
    "# 파일쓰기"
   ]
  },
  {
   "cell_type": "code",
   "execution_count": 40,
   "id": "1851a939",
   "metadata": {},
   "outputs": [],
   "source": [
    "file = './folder1/test3.txt'\n",
    "f = open(file, 'w', encoding='utf-8')"
   ]
  },
  {
   "cell_type": "code",
   "execution_count": 43,
   "id": "5fe5a3a0",
   "metadata": {},
   "outputs": [
    {
     "data": {
      "text/plain": [
       "True"
      ]
     },
     "execution_count": 43,
     "metadata": {},
     "output_type": "execute_result"
    }
   ],
   "source": [
    "# 없을 때 만들어라\n",
    "if not os.path.isdir('folder1'):\n",
    "    os.mkdir('folder1')\n",
    "    \n",
    "os.path.exists('folder1') # 이것도 가능 (있으면 True, 없으면 False) // assert 느낌"
   ]
  },
  {
   "cell_type": "code",
   "execution_count": 44,
   "id": "c96c0928",
   "metadata": {},
   "outputs": [
    {
     "ename": "PermissionError",
     "evalue": "[WinError 32] 다른 프로세스가 파일을 사용 중이기 때문에 프로세스가 액세스 할 수 없습니다: './folder1/test3.txt'",
     "output_type": "error",
     "traceback": [
      "\u001b[1;31m---------------------------------------------------------------------------\u001b[0m",
      "\u001b[1;31mPermissionError\u001b[0m                           Traceback (most recent call last)",
      "\u001b[1;32mC:\\Users\\SONGJO~1\\AppData\\Local\\Temp/ipykernel_14828/1518029470.py\u001b[0m in \u001b[0;36m<module>\u001b[1;34m\u001b[0m\n\u001b[1;32m----> 1\u001b[1;33m \u001b[0mos\u001b[0m\u001b[1;33m.\u001b[0m\u001b[0mremove\u001b[0m\u001b[1;33m(\u001b[0m\u001b[0mfile\u001b[0m\u001b[1;33m)\u001b[0m\u001b[1;33m\u001b[0m\u001b[1;33m\u001b[0m\u001b[0m\n\u001b[0m",
      "\u001b[1;31mPermissionError\u001b[0m: [WinError 32] 다른 프로세스가 파일을 사용 중이기 때문에 프로세스가 액세스 할 수 없습니다: './folder1/test3.txt'"
     ]
    }
   ],
   "source": [
    "os.remove(file)"
   ]
  },
  {
   "cell_type": "code",
   "execution_count": 46,
   "id": "8fbb345e",
   "metadata": {},
   "outputs": [
    {
     "ename": "OSError",
     "evalue": "[WinError 145] 디렉터리가 비어 있지 않습니다: 'folder1'",
     "output_type": "error",
     "traceback": [
      "\u001b[1;31m---------------------------------------------------------------------------\u001b[0m",
      "\u001b[1;31mOSError\u001b[0m                                   Traceback (most recent call last)",
      "\u001b[1;32mC:\\Users\\SONGJO~1\\AppData\\Local\\Temp/ipykernel_14828/1893751237.py\u001b[0m in \u001b[0;36m<module>\u001b[1;34m\u001b[0m\n\u001b[1;32m----> 1\u001b[1;33m \u001b[0mos\u001b[0m\u001b[1;33m.\u001b[0m\u001b[0mrmdir\u001b[0m\u001b[1;33m(\u001b[0m\u001b[1;34m'folder1'\u001b[0m\u001b[1;33m)\u001b[0m\u001b[1;33m\u001b[0m\u001b[1;33m\u001b[0m\u001b[0m\n\u001b[0m",
      "\u001b[1;31mOSError\u001b[0m: [WinError 145] 디렉터리가 비어 있지 않습니다: 'folder1'"
     ]
    }
   ],
   "source": [
    "os.rmdir('folder1')"
   ]
  },
  {
   "cell_type": "code",
   "execution_count": 49,
   "id": "ce85a71f",
   "metadata": {},
   "outputs": [],
   "source": [
    "if not os.path.isdir('folder2'):\n",
    "    os.mkdir('folder2')\n",
    "    \n",
    "with open('./folder2/test4.txt', 'w', encoding='UTF8') as f:\n",
    "    f.write('Hello World')\n",
    "    \n",
    "with open('./folder2/test4.txt', 'r', encoding='UTF8') as f:\n",
    "    data = f.read()"
   ]
  },
  {
   "cell_type": "code",
   "execution_count": 50,
   "id": "5a4570e4",
   "metadata": {},
   "outputs": [
    {
     "data": {
      "text/plain": [
       "'Hello World'"
      ]
     },
     "execution_count": 50,
     "metadata": {},
     "output_type": "execute_result"
    }
   ],
   "source": [
    "data"
   ]
  },
  {
   "cell_type": "code",
   "execution_count": 51,
   "id": "fc1c5e36",
   "metadata": {},
   "outputs": [],
   "source": [
    "import shutil\n",
    "shutil.rmtree('folder2')"
   ]
  },
  {
   "cell_type": "code",
   "execution_count": 52,
   "id": "182f96f3",
   "metadata": {},
   "outputs": [
    {
     "data": {
      "text/plain": [
       "'C:\\\\Users\\\\SongJongbeen\\\\Desktop'"
      ]
     },
     "execution_count": 52,
     "metadata": {},
     "output_type": "execute_result"
    }
   ],
   "source": [
    "os.getcwd()"
   ]
  },
  {
   "cell_type": "code",
   "execution_count": 53,
   "id": "8f00f686",
   "metadata": {},
   "outputs": [],
   "source": [
    "os.chdir('..')"
   ]
  },
  {
   "cell_type": "markdown",
   "id": "5b42b0c4",
   "metadata": {},
   "source": [
    "## pickle\n",
    "- 객체를 저장, 불러들일 수 있다.\n",
    "- 저장: pickle.dump(변수, 파일명)\n",
    "- 열때: pickle.load(파일)"
   ]
  },
  {
   "cell_type": "code",
   "execution_count": 54,
   "id": "a88fb936",
   "metadata": {},
   "outputs": [],
   "source": [
    "import pickle"
   ]
  },
  {
   "cell_type": "code",
   "execution_count": 55,
   "id": "a2789311",
   "metadata": {},
   "outputs": [],
   "source": [
    "num = list(range(10))"
   ]
  },
  {
   "cell_type": "code",
   "execution_count": 56,
   "id": "bc400388",
   "metadata": {},
   "outputs": [],
   "source": [
    "f = open('test.pickle', 'wb')\n",
    "pickle.dump(num, f)\n",
    "f.close()"
   ]
  },
  {
   "cell_type": "code",
   "execution_count": 57,
   "id": "5cef6f93",
   "metadata": {},
   "outputs": [],
   "source": [
    "with open('test.pickle', 'rb') as f:\n",
    "    number = pickle.load(f)"
   ]
  },
  {
   "cell_type": "code",
   "execution_count": null,
   "id": "9baa4aa3",
   "metadata": {},
   "outputs": [],
   "source": []
  }
 ],
 "metadata": {
  "kernelspec": {
   "display_name": "Python 3 (ipykernel)",
   "language": "python",
   "name": "python3"
  },
  "language_info": {
   "codemirror_mode": {
    "name": "ipython",
    "version": 3
   },
   "file_extension": ".py",
   "mimetype": "text/x-python",
   "name": "python",
   "nbconvert_exporter": "python",
   "pygments_lexer": "ipython3",
   "version": "3.9.7"
  }
 },
 "nbformat": 4,
 "nbformat_minor": 5
}
