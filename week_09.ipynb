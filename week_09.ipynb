{
 "cells": [
  {
   "cell_type": "code",
   "execution_count": 1,
   "id": "718e4c2f",
   "metadata": {},
   "outputs": [],
   "source": [
    "from collections import defaultdict"
   ]
  },
  {
   "cell_type": "code",
   "execution_count": 2,
   "id": "75c34c0a",
   "metadata": {},
   "outputs": [],
   "source": [
    "name = 'jongbeen song'\n",
    "empty = {}\n",
    "for ch in name:\n",
    "    empty.setdefault(ch, 0)\n",
    "    empty[ch] += 1"
   ]
  },
  {
   "cell_type": "code",
   "execution_count": 3,
   "id": "55bee26f",
   "metadata": {},
   "outputs": [
    {
     "data": {
      "text/plain": [
       "{'j': 1, 'o': 2, 'n': 3, 'g': 2, 'b': 1, 'e': 2, ' ': 1, 's': 1}"
      ]
     },
     "execution_count": 3,
     "metadata": {},
     "output_type": "execute_result"
    }
   ],
   "source": [
    "empty"
   ]
  },
  {
   "cell_type": "code",
   "execution_count": 6,
   "id": "0f04169a",
   "metadata": {},
   "outputs": [],
   "source": [
    "empty2 = defaultdict(int) # 이렇게 만들어주면 딕셔너리의 값이 없으면 0으로 만들어주고, 훨씬 코드가 간결함\n",
    "for ch in name:\n",
    "    empty2[ch] += 1"
   ]
  },
  {
   "cell_type": "code",
   "execution_count": 7,
   "id": "57bde03a",
   "metadata": {},
   "outputs": [
    {
     "data": {
      "text/plain": [
       "defaultdict(int,\n",
       "            {'j': 1, 'o': 2, 'n': 3, 'g': 2, 'b': 1, 'e': 2, ' ': 1, 's': 1})"
      ]
     },
     "execution_count": 7,
     "metadata": {},
     "output_type": "execute_result"
    }
   ],
   "source": [
    "empty2"
   ]
  },
  {
   "cell_type": "markdown",
   "id": "5182d64d",
   "metadata": {},
   "source": [
    "## Object & Class\n",
    "- 객체? 실체적인 물건, 개념\n",
    "- 속성, 행동을 가지는 개념\n",
    "\n",
    "- 자동차\n",
    "    - 속성: 엔진, 브랜드, 가격, 색상, 이름, ... => 변수\n",
    "    - 행동: 나가다, 정차하다, 좌회전, 우회전, ... => 메소드 (함수)\n",
    "- 고양이\n",
    "    - 속성: 종, 이름, 컬러, 몸무게, 성별, ...\n",
    "    - 행동: 짖다, 뛰다, 걷다, 째려보다, ...\n",
    "- 사전\n",
    "    - 속성: 글자수, 시작글자, 출현빈도수, ...\n",
    "    - 행동: 추가하다, 제외하다, ...\n",
    "    \n",
    "- 관련 짓는 방법\n",
    "    - 사람                   상점                      물건\n",
    "    - 이름, 돈,              재고, 이익, 고객명단,     브랜드, 이름, 가격\n",
    "    - 사다                   회원등록, 팔다, 수익계산\n",
    "    \n",
    "- 객체 사용하는 이유: 코드 재사용 수월}"
   ]
  },
  {
   "cell_type": "markdown",
   "id": "ee3112f9",
   "metadata": {},
   "source": [
    "### 클래스\n",
    "- 객체가 가져야할 기본 정보를 담은 코드\n",
    "- 설계도, 틀, 프레임워크\n",
    "- 붕어빵의 틀\n",
    "- 붕어빵 == 인스턴스\n",
    "- 'class Car:'\n",
    "    - 클래스명은 카멜표기법을 쓴다 # class NiceCar"
   ]
  },
  {
   "cell_type": "markdown",
   "id": "ab6e88f1",
   "metadata": {},
   "source": [
    "### getter, setter\n",
    "- 캡슐화, 정보 은닉\n",
    "- 클래스 외부에서 변수 접근을 용이하지 못하게 하는 것\n",
    "- public -> private"
   ]
  },
  {
   "cell_type": "code",
   "execution_count": 16,
   "id": "34a2c0a0",
   "metadata": {},
   "outputs": [],
   "source": [
    "class Student:\n",
    "    def __init__(self, input_id, input_name, input_major):\n",
    "        self.__student_id = input_id # 가장 파이썬스럽고 좋은 방법\n",
    "        self.student_name = input_name\n",
    "        self.hidden_major = input_major # name 보다는 상대적으로 더 파이썬스러움\n",
    "                \n",
    "    @property\n",
    "    def student_id(self):\n",
    "        return self.__student_id\n",
    "    \n",
    "    @student_id.setter\n",
    "    def student_id(self, input_id):\n",
    "        self.__student_id = input_id\n",
    "\n",
    "    def get_name(self):\n",
    "        print('from the getter')\n",
    "        return self.name\n",
    "    \n",
    "    def set_name(self, input_name):\n",
    "        print('from the setter')\n",
    "        self.student_name = input_name\n",
    "    \n",
    "    def get_major(self):\n",
    "        return self.hidden_major\n",
    "    \n",
    "    def set_major(self, input_major):\n",
    "        self.hidden_major = input_major\n",
    "        \n",
    "    student_major = property(get_major, set_major)"
   ]
  },
  {
   "cell_type": "code",
   "execution_count": 17,
   "id": "643394a8",
   "metadata": {},
   "outputs": [],
   "source": [
    "watson = Student(20201, 'watson', 'cs')"
   ]
  },
  {
   "cell_type": "code",
   "execution_count": 18,
   "id": "82ef8e66",
   "metadata": {},
   "outputs": [
    {
     "data": {
      "text/plain": [
       "'watson'"
      ]
     },
     "execution_count": 18,
     "metadata": {},
     "output_type": "execute_result"
    }
   ],
   "source": [
    "watson.student_name"
   ]
  },
  {
   "cell_type": "code",
   "execution_count": 19,
   "id": "87a26978",
   "metadata": {},
   "outputs": [
    {
     "data": {
      "text/plain": [
       "'cs'"
      ]
     },
     "execution_count": 19,
     "metadata": {},
     "output_type": "execute_result"
    }
   ],
   "source": [
    "watson.student_major"
   ]
  },
  {
   "cell_type": "code",
   "execution_count": 20,
   "id": "4c0dc427",
   "metadata": {},
   "outputs": [
    {
     "data": {
      "text/plain": [
       "'cs'"
      ]
     },
     "execution_count": 20,
     "metadata": {},
     "output_type": "execute_result"
    }
   ],
   "source": [
    "watson.hidden_major"
   ]
  },
  {
   "cell_type": "code",
   "execution_count": 21,
   "id": "0362ac8a",
   "metadata": {},
   "outputs": [
    {
     "data": {
      "text/plain": [
       "20201"
      ]
     },
     "execution_count": 21,
     "metadata": {},
     "output_type": "execute_result"
    }
   ],
   "source": [
    "watson.student_id"
   ]
  },
  {
   "cell_type": "code",
   "execution_count": 23,
   "id": "75337940",
   "metadata": {},
   "outputs": [
    {
     "ename": "AttributeError",
     "evalue": "'Student' object has no attribute '__student_id'",
     "output_type": "error",
     "traceback": [
      "\u001b[1;31m---------------------------------------------------------------------------\u001b[0m",
      "\u001b[1;31mAttributeError\u001b[0m                            Traceback (most recent call last)",
      "\u001b[1;32mC:\\Users\\SONGJO~1\\AppData\\Local\\Temp/ipykernel_452/3076973547.py\u001b[0m in \u001b[0;36m<module>\u001b[1;34m\u001b[0m\n\u001b[1;32m----> 1\u001b[1;33m \u001b[0mwatson\u001b[0m\u001b[1;33m.\u001b[0m\u001b[0m__student_id\u001b[0m\u001b[1;33m\u001b[0m\u001b[1;33m\u001b[0m\u001b[0m\n\u001b[0m",
      "\u001b[1;31mAttributeError\u001b[0m: 'Student' object has no attribute '__student_id'"
     ]
    }
   ],
   "source": [
    "watson.__student_id"
   ]
  },
  {
   "cell_type": "code",
   "execution_count": 24,
   "id": "5e8b9634",
   "metadata": {},
   "outputs": [],
   "source": [
    "import copy"
   ]
  },
  {
   "cell_type": "code",
   "execution_count": 25,
   "id": "2cb71cce",
   "metadata": {},
   "outputs": [],
   "source": [
    "# 클래스 실습\n",
    "\n",
    "class Soldier:\n",
    "    def __init__(self, input_name):\n",
    "        self.name = input_name\n",
    "        self.location = [0, 0] # x axis, y axis\n",
    "        \n",
    "    def walk_forward(self, distance=1):\n",
    "        self.location[1] += distance\n",
    "        \n",
    "    def walk_backward(self, distance=1):\n",
    "        self.location[1] -= distance\n",
    "        \n",
    "    def walk_left(self, distance=1):\n",
    "        self.location[0] -= distance\n",
    "        \n",
    "    def walk_right(self, distance=1):\n",
    "        self.location[0] += distance\n",
    "        \n",
    "    def shoot(self):\n",
    "        shoot_location = copy.deepcopy(self.location)\n",
    "        shoot_location[1] += 3\n",
    "        print(f'{self.name} has shot enemies from {self.location} to {shoot_location}')"
   ]
  },
  {
   "cell_type": "code",
   "execution_count": 33,
   "id": "9e898cca",
   "metadata": {},
   "outputs": [],
   "source": [
    "kim = Soldier('kim')"
   ]
  },
  {
   "cell_type": "code",
   "execution_count": 34,
   "id": "26763f54",
   "metadata": {},
   "outputs": [],
   "source": [
    "kim.walk_forward()"
   ]
  },
  {
   "cell_type": "code",
   "execution_count": 35,
   "id": "cba33914",
   "metadata": {},
   "outputs": [],
   "source": [
    "kim.walk_left(3)"
   ]
  },
  {
   "cell_type": "code",
   "execution_count": 36,
   "id": "663213d5",
   "metadata": {},
   "outputs": [
    {
     "name": "stdout",
     "output_type": "stream",
     "text": [
      "kim has shot enemies from [-3, 1] to [-3, 4]\n"
     ]
    }
   ],
   "source": [
    "kim.shoot()"
   ]
  },
  {
   "cell_type": "code",
   "execution_count": null,
   "id": "93332b05",
   "metadata": {},
   "outputs": [],
   "source": []
  }
 ],
 "metadata": {
  "kernelspec": {
   "display_name": "Python 3 (ipykernel)",
   "language": "python",
   "name": "python3"
  },
  "language_info": {
   "codemirror_mode": {
    "name": "ipython",
    "version": 3
   },
   "file_extension": ".py",
   "mimetype": "text/x-python",
   "name": "python",
   "nbconvert_exporter": "python",
   "pygments_lexer": "ipython3",
   "version": "3.9.7"
  }
 },
 "nbformat": 4,
 "nbformat_minor": 5
}
