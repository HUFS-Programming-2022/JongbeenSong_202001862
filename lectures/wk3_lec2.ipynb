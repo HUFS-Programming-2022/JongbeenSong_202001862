{
 "cells": [
  {
   "cell_type": "markdown",
   "id": "c55d73bf",
   "metadata": {},
   "source": [
    "## String | 문자열\n",
    "- str type\n",
    "- 시스템에서 가장 작은 단위 (시스템에서 차지하는 크기가 가장 작다)\n",
    "- 불변적인 성격을 가짐 (immutable)\n",
    "    - 'abcd' -> b -> a 바꿀 수 없다\n",
    "- 문법: '', \"\" 감싸면 모두 문자열\n",
    "    - 예: '24'\n",
    "- ''' or \"\"\" -> 주석\n",
    "- 형 변환은 str()\n",
    "\n",
    "## Escape Character | 이스케이프문자\n",
    "- 눈에 보이는 대로 인식되지 않는 문자열\n",
    "- 문법: \\ + <character>\n",
    "- \\n, \\t, \\b, \\'\n",
    "- print() 함수 쓰지 않으면 출력은 된다\n",
    "- '\\n' 출력은 어떻게?\n",
    "    - \\\\n\n",
    "    - r'' (raw string)\n",
    "- 문자열을 바꾸는 것이 아니라 표면상의 형태를 말하는 것"
   ]
  },
  {
   "cell_type": "code",
   "execution_count": 15,
   "id": "0a6c4b3a",
   "metadata": {},
   "outputs": [
    {
     "name": "stdout",
     "output_type": "stream",
     "text": [
      "hello\n",
      "World\n",
      "hello\tWorld\n",
      "hello\bWorld\n",
      "I'm a boy\n"
     ]
    }
   ],
   "source": [
    "print('hello\\nWorld')\n",
    "print('hello\\tWorld')\n",
    "print('hello\\bWorld')\n",
    "print('I\\'m a boy')"
   ]
  },
  {
   "cell_type": "code",
   "execution_count": 22,
   "id": "054571f9",
   "metadata": {},
   "outputs": [
    {
     "name": "stdout",
     "output_type": "stream",
     "text": [
      "hello\tworld I'm a boy\n"
     ]
    }
   ],
   "source": [
    "sent = 'hello\\tworld I\\'m a boy'\n",
    "print(sent)"
   ]
  },
  {
   "cell_type": "code",
   "execution_count": 9,
   "id": "3bd8fde4",
   "metadata": {},
   "outputs": [
    {
     "name": "stdout",
     "output_type": "stream",
     "text": [
      "\\n\n"
     ]
    }
   ],
   "source": [
    "print(r'\\n')"
   ]
  },
  {
   "cell_type": "markdown",
   "id": "1b3c115f",
   "metadata": {},
   "source": [
    "### 연산\n",
    "- concatenation (+)\n",
    "    - '' + '' => 붙이기\n",
    "- 복제 (*)\n",
    "    - '' * 4 => 4번 반복"
   ]
  },
  {
   "cell_type": "code",
   "execution_count": 11,
   "id": "060a04d1",
   "metadata": {},
   "outputs": [
    {
     "data": {
      "text/plain": [
       "'brainbrain'"
      ]
     },
     "execution_count": 11,
     "metadata": {},
     "output_type": "execute_result"
    }
   ],
   "source": [
    "word = 'brain'\n",
    "word + word # 공백없이 붙는다"
   ]
  },
  {
   "cell_type": "code",
   "execution_count": 12,
   "id": "b870f564",
   "metadata": {},
   "outputs": [
    {
     "data": {
      "text/plain": [
       "'brainbrainbrainbrain'"
      ]
     },
     "execution_count": 12,
     "metadata": {},
     "output_type": "execute_result"
    }
   ],
   "source": [
    "word * 4"
   ]
  },
  {
   "cell_type": "code",
   "execution_count": 14,
   "id": "b6bdbd4e",
   "metadata": {},
   "outputs": [
    {
     "data": {
      "text/plain": [
       "'my name isJake'"
      ]
     },
     "execution_count": 14,
     "metadata": {},
     "output_type": "execute_result"
    }
   ],
   "source": [
    "'my name is' + 'Jake' # 이러면 띄어쓰기가 문제"
   ]
  },
  {
   "cell_type": "markdown",
   "id": "efd465eb",
   "metadata": {},
   "source": [
    "### Slicing\n",
    "- 지정 범위의 문자열을 추출하는 것\n",
    "- 문법: 대괄호 + 오프셋 이용 [offset]\n",
    "    - [start:end:step]\n",
    "- 오프셋은 0부터 시작\n",
    "- start 포함, end 불포함 (크거나 같고, 작다)\n",
    "- 0일 경우 생략한다.\n",
    "    - 예: ~4까지 출력하라 => [:5]\n",
    "    - 처음부터 끝까지 2스텝씩 => [::2]\n",
    "    - 처음부터 끝까지 역순으로 찍기 => [::-1]\n",
    "- 오프셋은 거꾸로도 가능하다\n",
    "\n",
    "\n",
    "# 0 1 2 ..\n",
    "# h e l l o\n",
    "# -5      -1"
   ]
  },
  {
   "cell_type": "code",
   "execution_count": 31,
   "id": "73b54d16",
   "metadata": {},
   "outputs": [
    {
     "data": {
      "text/plain": [
       "(\"hello\\tworld I'm a boy\", 'e')"
      ]
     },
     "execution_count": 31,
     "metadata": {},
     "output_type": "execute_result"
    }
   ],
   "source": [
    "sent, sent[1]"
   ]
  },
  {
   "cell_type": "code",
   "execution_count": 32,
   "id": "af96c63a",
   "metadata": {},
   "outputs": [
    {
     "data": {
      "text/plain": [
       "'l'"
      ]
     },
     "execution_count": 32,
     "metadata": {},
     "output_type": "execute_result"
    }
   ],
   "source": [
    "sent[3:4]"
   ]
  },
  {
   "cell_type": "code",
   "execution_count": 33,
   "id": "4dc80a69",
   "metadata": {},
   "outputs": [
    {
     "data": {
      "text/plain": [
       "'hell'"
      ]
     },
     "execution_count": 33,
     "metadata": {},
     "output_type": "execute_result"
    }
   ],
   "source": [
    "sent[:4]"
   ]
  },
  {
   "cell_type": "code",
   "execution_count": 34,
   "id": "c0e33262",
   "metadata": {},
   "outputs": [
    {
     "data": {
      "text/plain": [
       "11"
      ]
     },
     "execution_count": 34,
     "metadata": {},
     "output_type": "execute_result"
    }
   ],
   "source": [
    "sent2 = 'hello world'\n",
    "len(sent2) # length (공백도 계산)"
   ]
  },
  {
   "cell_type": "code",
   "execution_count": 35,
   "id": "e75c5ca0",
   "metadata": {},
   "outputs": [
    {
     "data": {
      "text/plain": [
       "'dlrow olleh'"
      ]
     },
     "execution_count": 35,
     "metadata": {},
     "output_type": "execute_result"
    }
   ],
   "source": [
    "# 처음부터 끝까지 2스텝씩 출력하기\n",
    "sent2[::2]\n",
    "\n",
    "# 처음부터 끝까지 역순으로 출력하기\n",
    "sent2[::-1]"
   ]
  },
  {
   "cell_type": "code",
   "execution_count": 36,
   "id": "cd9800b0",
   "metadata": {},
   "outputs": [
    {
     "ename": "TypeError",
     "evalue": "'str' object does not support item assignment",
     "output_type": "error",
     "traceback": [
      "\u001b[1;31m---------------------------------------------------------------------------\u001b[0m",
      "\u001b[1;31mTypeError\u001b[0m                                 Traceback (most recent call last)",
      "\u001b[1;32mC:\\Users\\SONGJO~1\\AppData\\Local\\Temp/ipykernel_13556/4204601426.py\u001b[0m in \u001b[0;36m<module>\u001b[1;34m\u001b[0m\n\u001b[0;32m      1\u001b[0m \u001b[0mhello\u001b[0m \u001b[1;33m=\u001b[0m \u001b[1;34m'hello'\u001b[0m\u001b[1;33m\u001b[0m\u001b[1;33m\u001b[0m\u001b[0m\n\u001b[1;32m----> 2\u001b[1;33m \u001b[0mhello\u001b[0m\u001b[1;33m[\u001b[0m\u001b[1;36m2\u001b[0m\u001b[1;33m]\u001b[0m \u001b[1;33m=\u001b[0m \u001b[1;34m'L'\u001b[0m \u001b[1;31m# error\u001b[0m\u001b[1;33m\u001b[0m\u001b[1;33m\u001b[0m\u001b[0m\n\u001b[0m\u001b[0;32m      3\u001b[0m \u001b[0mhello\u001b[0m\u001b[1;33m\u001b[0m\u001b[1;33m\u001b[0m\u001b[0m\n",
      "\u001b[1;31mTypeError\u001b[0m: 'str' object does not support item assignment"
     ]
    }
   ],
   "source": [
    "hello = 'hello'\n",
    "hello[2] = 'L' # error\n",
    "hello"
   ]
  },
  {
   "cell_type": "code",
   "execution_count": null,
   "id": "ca434ee4",
   "metadata": {},
   "outputs": [],
   "source": []
  }
 ],
 "metadata": {
  "kernelspec": {
   "display_name": "Python 3 (ipykernel)",
   "language": "python",
   "name": "python3"
  },
  "language_info": {
   "codemirror_mode": {
    "name": "ipython",
    "version": 3
   },
   "file_extension": ".py",
   "mimetype": "text/x-python",
   "name": "python",
   "nbconvert_exporter": "python",
   "pygments_lexer": "ipython3",
   "version": "3.9.7"
  }
 },
 "nbformat": 4,
 "nbformat_minor": 5
}
