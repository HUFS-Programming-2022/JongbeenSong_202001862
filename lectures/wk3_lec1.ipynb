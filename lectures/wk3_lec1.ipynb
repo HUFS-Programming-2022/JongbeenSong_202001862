{
 "cells": [
  {
   "cell_type": "markdown",
   "id": "e9f98c74",
   "metadata": {},
   "source": [
    "## 중첩조건문\n",
    "- nested conditional\n",
    "- if 블록 안에 또다른 if 블록이 있는 경우\n",
    "- 들어쓰기로 논리를 구분한다.\n",
    "- (지양할 것)"
   ]
  },
  {
   "cell_type": "code",
   "execution_count": 5,
   "id": "673b2bce",
   "metadata": {},
   "outputs": [
    {
     "name": "stdout",
     "output_type": "stream",
     "text": [
      "Block B\n"
     ]
    }
   ],
   "source": [
    "x = 0\n",
    "y = 1\n",
    "if x == y:\n",
    "    print('Block A')\n",
    "else:\n",
    "    if x < y:\n",
    "        print('Block B')\n",
    "    elif x > y:\n",
    "        print('Block C')\n",
    "        \n",
    "# 안 좋은 예시 1"
   ]
  },
  {
   "cell_type": "code",
   "execution_count": 7,
   "id": "dfdb7ce1",
   "metadata": {},
   "outputs": [
    {
     "name": "stdout",
     "output_type": "stream",
     "text": [
      "Block C\n"
     ]
    }
   ],
   "source": [
    "if x > 0:\n",
    "    if x < 10:\n",
    "        print('Block A')\n",
    "    else:\n",
    "        print('Block B')\n",
    "else:\n",
    "    print('Block C')\n",
    "    \n",
    "# 안 좋은 예시 2\n",
    "# 0 < x < 10"
   ]
  },
  {
   "cell_type": "code",
   "execution_count": 8,
   "id": "8d227692",
   "metadata": {},
   "outputs": [
    {
     "name": "stdout",
     "output_type": "stream",
     "text": [
      "Block C\n"
     ]
    }
   ],
   "source": [
    "x = 0\n",
    "y = 1\n",
    "\n",
    "if x == y:\n",
    "    print('Block A')\n",
    "elif x > y:\n",
    "    print('Block B')\n",
    "elif x < y:\n",
    "    print('Block C')"
   ]
  },
  {
   "cell_type": "code",
   "execution_count": 10,
   "id": "473ad2aa",
   "metadata": {},
   "outputs": [
    {
     "name": "stdout",
     "output_type": "stream",
     "text": [
      "Block B\n"
     ]
    }
   ],
   "source": [
    "# 방법 1\n",
    "\n",
    "if (x > 0) and (x < 10):\n",
    "    print('Block A')\n",
    "else:\n",
    "    print('Block B')"
   ]
  },
  {
   "cell_type": "code",
   "execution_count": 11,
   "id": "6c8e9e81",
   "metadata": {},
   "outputs": [
    {
     "name": "stdout",
     "output_type": "stream",
     "text": [
      "Block B\n"
     ]
    }
   ],
   "source": [
    "# 방법 2\n",
    "\n",
    "if 0 < x < 10:\n",
    "    print('Block A')\n",
    "else:\n",
    "    print('Block B')"
   ]
  },
  {
   "cell_type": "markdown",
   "id": "b9523eb3",
   "metadata": {},
   "source": [
    "### 논리연산자\n",
    "- 비교연산자가 여러번 사용될 때 사용하는 것\n",
    "- and, or, not\n",
    "    - A and B: A도 참이고, B도 참일때 True\n",
    "        - 예: A & B\n",
    "    - A or B: A 혹은 B, 둘 중 하나만 참이면 True\n",
    "        - 예: A | B\n",
    "    - not(A): A가 False -> True, True -> False\n",
    "- 비교연산자의 괄호는 가독성을 위해 (optional)\n",
    "- 파이썬에서만 가능한 표현: 0 < x < 10"
   ]
  },
  {
   "cell_type": "markdown",
   "id": "7bb4237d",
   "metadata": {},
   "source": [
    "### True, False\n",
    "- '만약 a가 참이라면, ...'\n",
    "- a = True"
   ]
  },
  {
   "cell_type": "code",
   "execution_count": 14,
   "id": "b73272f6",
   "metadata": {},
   "outputs": [
    {
     "name": "stdout",
     "output_type": "stream",
     "text": [
      "\n",
      "\n"
     ]
    }
   ],
   "source": [
    "a = True\n",
    "\n",
    "if a == True:\n",
    "    print() # 틀림\n",
    "    \n",
    "if a:\n",
    "    print()"
   ]
  },
  {
   "cell_type": "markdown",
   "id": "e627a2c0",
   "metadata": {},
   "source": [
    "### in\n",
    "- membership operator\n",
    "- 어떤 요소가 그 안에 있는지 확인하고 싶다\n",
    "- 비슷한 조건이 여러번 반복될 때 사용 가능"
   ]
  },
  {
   "cell_type": "code",
   "execution_count": 18,
   "id": "08193687",
   "metadata": {},
   "outputs": [
    {
     "name": "stdout",
     "output_type": "stream",
     "text": [
      "no\n"
     ]
    }
   ],
   "source": [
    "character = 'k'\n",
    "\n",
    "# character가 모음인지 확인하고 싶다: a, e, i, o, u\n",
    "# if character == 'a' or character =='e' ...\n",
    "\n",
    "if character in ['a', 'e', 'i', 'o', 'u']: # 리스트 요소에 character와 일치하는 것이 있는가\n",
    "    print('yes')\n",
    "else:\n",
    "    print('no')"
   ]
  },
  {
   "cell_type": "code",
   "execution_count": 22,
   "id": "6eeaf2d8",
   "metadata": {},
   "outputs": [
    {
     "name": "stdout",
     "output_type": "stream",
     "text": [
      "yes\n",
      "yes\n"
     ]
    }
   ],
   "source": [
    "word = 'abcde'\n",
    "\n",
    "# word에 모음이 있는지 확인\n",
    "for i in ['a', 'e', 'i', 'o', 'u']:\n",
    "    if i in word:\n",
    "        print('yes')\n",
    "        break\n",
    "    else:\n",
    "        continue\n",
    "    print('no')\n",
    "    \n",
    "# 또다른 방법\n",
    "if ('a' or 'e' or 'i' or 'o' or 'u') in word:\n",
    "    print('yes')\n",
    "else:\n",
    "    print('no')"
   ]
  },
  {
   "cell_type": "markdown",
   "id": "d88f571e",
   "metadata": {},
   "source": [
    "### 바다코끼리 연산자\n",
    "- walrus operator\n",
    "- 할당과 테스트를 동시에 하는 기능\n",
    "- :="
   ]
  },
  {
   "cell_type": "code",
   "execution_count": 23,
   "id": "c3dc5f0f",
   "metadata": {},
   "outputs": [
    {
     "data": {
      "text/plain": [
       "'blahblahblahblahblahblahblahblahblahblahblahblahblahblahblahblahblahblahblahblahblahblahblahblahblahblahblahblahblahblahblahblahblahblahblahblahblahblahblahblahblahblahblahblahblahblahblahblahblahblah'"
      ]
     },
     "execution_count": 23,
     "metadata": {},
     "output_type": "execute_result"
    }
   ],
   "source": [
    "tweet_limit = 200\n",
    "tweet_string = 'blah' * 50 # 공백없이 스트링\n",
    "\n",
    "tweet_string"
   ]
  },
  {
   "cell_type": "code",
   "execution_count": 25,
   "id": "78dc23b8",
   "metadata": {},
   "outputs": [
    {
     "name": "stdout",
     "output_type": "stream",
     "text": [
      "it's too long\n"
     ]
    }
   ],
   "source": [
    "diff = tweet_limit - len(tweet_string)\n",
    "if diff > 0:\n",
    "    print('it\\'s ok')\n",
    "else: print('it\\'s too long')"
   ]
  },
  {
   "cell_type": "code",
   "execution_count": 31,
   "id": "94a0a0f0",
   "metadata": {},
   "outputs": [],
   "source": [
    "if diff := tweet_limit - len(tweet_string) > 0:\n",
    "    print('able')"
   ]
  },
  {
   "cell_type": "markdown",
   "id": "329eccb4",
   "metadata": {},
   "source": [
    "### Quiz\n",
    "- 윤년을 구하는 코드를 짜보자\n",
    "    - 연도가 4로 나눠떨어지면 윤년\n",
    "    - 100으로 나눠떨어지면 안된다\n",
    "    - 400으로 나눠떨어지면 된다\n",
    "    \n",
    "- year을 입력받는다.\n",
    "- 출력 = '{}년은 윤년입니다' / '{}년은 윤년이 아닙니다.'"
   ]
  },
  {
   "cell_type": "code",
   "execution_count": 32,
   "id": "36562ded",
   "metadata": {},
   "outputs": [
    {
     "name": "stdout",
     "output_type": "stream",
     "text": [
      "input the year: 2020\n",
      "2020년은 윤년입니다\n"
     ]
    }
   ],
   "source": [
    "year = int(input('input the year: '))\n",
    "\n",
    "if year % 400 == 0:\n",
    "    print(f'{year}년은 윤년입니다')\n",
    "elif year % 100 == 0:\n",
    "    print(f'{year}년은 윤년이 아닙니다')\n",
    "elif year % 4 == 0:\n",
    "    print(f'{year}년은 윤년입니다')\n",
    "else:\n",
    "    print(f'{year}년은 윤년이 아닙니다')"
   ]
  },
  {
   "cell_type": "code",
   "execution_count": null,
   "id": "7d98bee3",
   "metadata": {},
   "outputs": [],
   "source": []
  },
  {
   "cell_type": "code",
   "execution_count": null,
   "id": "374d5ab1",
   "metadata": {},
   "outputs": [],
   "source": []
  },
  {
   "cell_type": "code",
   "execution_count": null,
   "id": "b417119c",
   "metadata": {},
   "outputs": [],
   "source": []
  },
  {
   "cell_type": "code",
   "execution_count": null,
   "id": "0336867a",
   "metadata": {},
   "outputs": [],
   "source": []
  }
 ],
 "metadata": {
  "kernelspec": {
   "display_name": "Python 3 (ipykernel)",
   "language": "python",
   "name": "python3"
  },
  "language_info": {
   "codemirror_mode": {
    "name": "ipython",
    "version": 3
   },
   "file_extension": ".py",
   "mimetype": "text/x-python",
   "name": "python",
   "nbconvert_exporter": "python",
   "pygments_lexer": "ipython3",
   "version": "3.9.7"
  }
 },
 "nbformat": 4,
 "nbformat_minor": 5
}
