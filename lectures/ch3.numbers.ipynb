{
 "cells": [
  {
   "cell_type": "markdown",
   "id": "8c32a51c",
   "metadata": {},
   "source": [
    "## Ch03. Numbers"
   ]
  },
  {
   "cell_type": "markdown",
   "id": "874c97da",
   "metadata": {},
   "source": [
    "### boolean\n",
    "- True/False\n",
    "- False인 값\n",
    "- if문 (조건식): '만약 어떤 값이 True면, ...'"
   ]
  },
  {
   "cell_type": "code",
   "execution_count": 3,
   "id": "c4181c28",
   "metadata": {},
   "outputs": [
    {
     "data": {
      "text/plain": [
       "False"
      ]
     },
     "execution_count": 3,
     "metadata": {},
     "output_type": "execute_result"
    }
   ],
   "source": [
    "bool(0)"
   ]
  },
  {
   "cell_type": "code",
   "execution_count": 4,
   "id": "86e013db",
   "metadata": {},
   "outputs": [
    {
     "data": {
      "text/plain": [
       "False"
      ]
     },
     "execution_count": 4,
     "metadata": {},
     "output_type": "execute_result"
    }
   ],
   "source": [
    "bool(None)"
   ]
  },
  {
   "cell_type": "markdown",
   "id": "95329a34",
   "metadata": {},
   "source": [
    "### Integer\n",
    "- 분수나 소수가 아닌 정수\n",
    "- 음수는 '-'기호를 붙인다: i.e., -50\n",
    "- default = 양수\n",
    "- 숫자 앞에는 0을 쓰지 못한다. i.e., 09\n",
    "    - 0bxx (10진수가 아닌)\n",
    "- 숫자 사이에 쉼표를 쓰면 오류: 100,000 (x) -> 100_000\n",
    "    => 숫자 사이의 언더바는 인식하지 않는다는 의미"
   ]
  },
  {
   "cell_type": "code",
   "execution_count": 6,
   "id": "b06596f8",
   "metadata": {},
   "outputs": [
    {
     "ename": "SyntaxError",
     "evalue": "leading zeros in decimal integer literals are not permitted; use an 0o prefix for octal integers (Temp/ipykernel_21336/2890110653.py, line 1)",
     "output_type": "error",
     "traceback": [
      "\u001b[1;36m  File \u001b[1;32m\"C:\\Users\\SONGJO~1\\AppData\\Local\\Temp/ipykernel_21336/2890110653.py\"\u001b[1;36m, line \u001b[1;32m1\u001b[0m\n\u001b[1;33m    a = 09\u001b[0m\n\u001b[1;37m         ^\u001b[0m\n\u001b[1;31mSyntaxError\u001b[0m\u001b[1;31m:\u001b[0m leading zeros in decimal integer literals are not permitted; use an 0o prefix for octal integers\n"
     ]
    }
   ],
   "source": [
    "a = 09"
   ]
  },
  {
   "cell_type": "code",
   "execution_count": 7,
   "id": "b924dcf8",
   "metadata": {},
   "outputs": [],
   "source": [
    "a = -50"
   ]
  },
  {
   "cell_type": "code",
   "execution_count": 8,
   "id": "6e01ec2b",
   "metadata": {},
   "outputs": [],
   "source": [
    "b = 49"
   ]
  },
  {
   "cell_type": "code",
   "execution_count": 9,
   "id": "bfe9cb72",
   "metadata": {},
   "outputs": [
    {
     "data": {
      "text/plain": [
       "-1"
      ]
     },
     "execution_count": 9,
     "metadata": {},
     "output_type": "execute_result"
    }
   ],
   "source": [
    "a + b"
   ]
  },
  {
   "cell_type": "markdown",
   "id": "d6e9da4b",
   "metadata": {},
   "source": [
    "### 연산자|operator\n",
    "- +, -, *, /\n",
    "- 피연산자|operand: 1, 2,...\n",
    "- 수식|expression"
   ]
  },
  {
   "cell_type": "code",
   "execution_count": 10,
   "id": "8e914687",
   "metadata": {},
   "outputs": [
    {
     "data": {
      "text/plain": [
       "6561"
      ]
     },
     "execution_count": 10,
     "metadata": {},
     "output_type": "execute_result"
    }
   ],
   "source": [
    "x = 9\n",
    "y = 4\n",
    "\n",
    "# 연산\n",
    "x + y\n",
    "x - y\n",
    "x * y\n",
    "x / y ###\n",
    "x ** y # 거듭제곰|exponential"
   ]
  },
  {
   "cell_type": "markdown",
   "id": "b4419e0e",
   "metadata": {},
   "source": [
    "나눗셈 = 몫, 나머지"
   ]
  },
  {
   "cell_type": "code",
   "execution_count": 14,
   "id": "b66a0c1d",
   "metadata": {},
   "outputs": [
    {
     "data": {
      "text/plain": [
       "2.25"
      ]
     },
     "execution_count": 14,
     "metadata": {},
     "output_type": "execute_result"
    }
   ],
   "source": [
    "x / y # 결과물"
   ]
  },
  {
   "cell_type": "code",
   "execution_count": 15,
   "id": "de835dce",
   "metadata": {},
   "outputs": [
    {
     "data": {
      "text/plain": [
       "2"
      ]
     },
     "execution_count": 15,
     "metadata": {},
     "output_type": "execute_result"
    }
   ],
   "source": [
    "x // y # 몫"
   ]
  },
  {
   "cell_type": "code",
   "execution_count": 16,
   "id": "71e0103d",
   "metadata": {},
   "outputs": [
    {
     "data": {
      "text/plain": [
       "1"
      ]
     },
     "execution_count": 16,
     "metadata": {},
     "output_type": "execute_result"
    }
   ],
   "source": [
    "x % y # 나머지"
   ]
  },
  {
   "cell_type": "code",
   "execution_count": 18,
   "id": "7d4c58ff",
   "metadata": {},
   "outputs": [
    {
     "data": {
      "text/plain": [
       "(2, 1)"
      ]
     },
     "execution_count": 18,
     "metadata": {},
     "output_type": "execute_result"
    }
   ],
   "source": [
    "divmod(x, y) # 몫과 나머지 (튜플)"
   ]
  },
  {
   "cell_type": "code",
   "execution_count": 20,
   "id": "58b5b935",
   "metadata": {},
   "outputs": [],
   "source": [
    "# division by zero 항시 유의"
   ]
  },
  {
   "cell_type": "code",
   "execution_count": 21,
   "id": "caaa963a",
   "metadata": {},
   "outputs": [
    {
     "data": {
      "text/plain": [
       "20"
      ]
     },
     "execution_count": 21,
     "metadata": {},
     "output_type": "execute_result"
    }
   ],
   "source": [
    "1 + 9                 + 10 # 숫자 사이의 공백은 무시됨"
   ]
  },
  {
   "cell_type": "markdown",
   "id": "2f2c7259",
   "metadata": {},
   "source": [
    "#### 복합 대입 연산자 | compound assignment operator"
   ]
  },
  {
   "cell_type": "code",
   "execution_count": 31,
   "id": "c5637ffa",
   "metadata": {},
   "outputs": [
    {
     "name": "stdout",
     "output_type": "stream",
     "text": [
      "5\n"
     ]
    }
   ],
   "source": [
    "x = 5\n",
    "x - 3\n",
    "print(x)"
   ]
  },
  {
   "cell_type": "code",
   "execution_count": 32,
   "id": "df332975",
   "metadata": {},
   "outputs": [
    {
     "name": "stdout",
     "output_type": "stream",
     "text": [
      "2\n"
     ]
    }
   ],
   "source": [
    "x = x - 3\n",
    "print(x)\n",
    "\n",
    "#1. x - 3 계산\n",
    "#2. temp = x - 3 (임시변수에 담는다)\n",
    "#3. x = temp"
   ]
  },
  {
   "cell_type": "code",
   "execution_count": 33,
   "id": "3f8e4974",
   "metadata": {},
   "outputs": [
    {
     "name": "stdout",
     "output_type": "stream",
     "text": [
      "-1\n"
     ]
    }
   ],
   "source": [
    "x -= 3\n",
    "print(x) # 2 - 3"
   ]
  },
  {
   "cell_type": "code",
   "execution_count": 36,
   "id": "93927858",
   "metadata": {},
   "outputs": [],
   "source": [
    "x += 3\n",
    "x -= 3\n",
    "x *= 3\n",
    "x /= 3\n",
    "\n",
    "x += 1"
   ]
  },
  {
   "cell_type": "markdown",
   "id": "98a79257",
   "metadata": {},
   "source": [
    "### Quiz 1.\n",
    "- 반지름을 입력 받아서 원의 면적 구하기\n",
    "- 면적 = pi * r제곱\n",
    "\n",
    "### Quiz 2.\n",
    "- 숫자를 입력받고 3의 배수인지 확인하기\n",
    "- 숫자를 입력받고 홀수인지 확인하기"
   ]
  },
  {
   "cell_type": "code",
   "execution_count": 53,
   "id": "410f24d2",
   "metadata": {},
   "outputs": [],
   "source": [
    "import math"
   ]
  },
  {
   "cell_type": "code",
   "execution_count": 61,
   "id": "8a427742",
   "metadata": {},
   "outputs": [
    {
     "name": "stdout",
     "output_type": "stream",
     "text": [
      "input the radius: 3\n",
      "\n",
      "area is 28.274333882308138\n"
     ]
    }
   ],
   "source": [
    "# quiz 1\n",
    "\n",
    "radius = float(input('input the radius: '))\n",
    "area = math.pi * radius ** 2\n",
    "\n",
    "print()\n",
    "\n",
    "print(f'area is {area}')"
   ]
  },
  {
   "cell_type": "code",
   "execution_count": 57,
   "id": "913666c9",
   "metadata": {},
   "outputs": [
    {
     "name": "stdout",
     "output_type": "stream",
     "text": [
      "input the number: 6\n",
      "\n",
      "the given number IS a multiple of three\n",
      "\n",
      "the given number is an EVEN number\n"
     ]
    }
   ],
   "source": [
    "# quiz 2\n",
    "\n",
    "number = int(input('input the number: '))\n",
    "\n",
    "print()\n",
    "\n",
    "if number % 3 == 0:\n",
    "    print('the given number IS a multiple of three')\n",
    "elif number % 3 != 0:\n",
    "    print('the given number IS NOT a multiple of three')\n",
    "    \n",
    "print()\n",
    "\n",
    "if number % 2 == 0:\n",
    "    print('the given number is an EVEN number')\n",
    "elif number % 2 != 0:\n",
    "    print('the given number is an ODD number')"
   ]
  },
  {
   "cell_type": "code",
   "execution_count": 72,
   "id": "b3aec0c5",
   "metadata": {},
   "outputs": [
    {
     "name": "stdout",
     "output_type": "stream",
     "text": [
      "input the number: 4\n",
      "\n",
      "is the given number a multiple of three? False\n",
      "is the given number a odd number? False\n"
     ]
    }
   ],
   "source": [
    "# quiz 2 - if 없는 버전\n",
    "\n",
    "number = int(input('input the number: '))\n",
    "\n",
    "print()\n",
    "\n",
    "multiple_of_three = not bool(number % 3)\n",
    "odd_number = bool(number % 2)\n",
    "\n",
    "print(f'is the given number a multiple of three? {multiple_of_three}')\n",
    "print(f'is the given number a odd number? {odd_number}')"
   ]
  },
  {
   "cell_type": "code",
   "execution_count": 60,
   "id": "2e83831f",
   "metadata": {},
   "outputs": [
    {
     "name": "stdout",
     "output_type": "stream",
     "text": [
      "3600\n",
      "86400\n",
      "24.0\n",
      "24\n"
     ]
    }
   ],
   "source": [
    "# section 3-6 연습문제\n",
    "\n",
    "seconds_per_hour = 60 * 60\n",
    "print(seconds_per_hour)\n",
    "\n",
    "seconds_per_day = seconds_per_hour * 24\n",
    "print(seconds_per_day)\n",
    "\n",
    "float_division = seconds_per_day / seconds_per_hour\n",
    "print(float_division)\n",
    "\n",
    "int_division = seconds_per_day // seconds_per_hour\n",
    "print(int_division)"
   ]
  },
  {
   "cell_type": "markdown",
   "id": "6fa8c85c",
   "metadata": {},
   "source": [
    "### 지수 표현\n",
    "- 예: 1.0e-4\n",
    "- e의 앞부분은 소수, 정수 둘 다 됨\n",
    "- 뒷부분은 정수여야함\n",
    "- 뒷부분이 음수면 소수점 자릿수를 의미함\n",
    "- e, E 둘 다 사용 가능"
   ]
  },
  {
   "cell_type": "code",
   "execution_count": 63,
   "id": "2b73f53f",
   "metadata": {},
   "outputs": [
    {
     "data": {
      "text/plain": [
       "0.0001"
      ]
     },
     "execution_count": 63,
     "metadata": {},
     "output_type": "execute_result"
    }
   ],
   "source": [
    "1.0e-4"
   ]
  },
  {
   "cell_type": "code",
   "execution_count": 70,
   "id": "7963f44f",
   "metadata": {},
   "outputs": [
    {
     "data": {
      "text/plain": [
       "0.0004005"
      ]
     },
     "execution_count": 70,
     "metadata": {},
     "output_type": "execute_result"
    }
   ],
   "source": [
    "# 0.0004005 => 지수로 표현하기\n",
    "4005.0e-7"
   ]
  },
  {
   "cell_type": "code",
   "execution_count": null,
   "id": "137261d5",
   "metadata": {},
   "outputs": [],
   "source": []
  }
 ],
 "metadata": {
  "kernelspec": {
   "display_name": "Python 3 (ipykernel)",
   "language": "python",
   "name": "python3"
  },
  "language_info": {
   "codemirror_mode": {
    "name": "ipython",
    "version": 3
   },
   "file_extension": ".py",
   "mimetype": "text/x-python",
   "name": "python",
   "nbconvert_exporter": "python",
   "pygments_lexer": "ipython3",
   "version": "3.9.7"
  }
 },
 "nbformat": 4,
 "nbformat_minor": 5
}
