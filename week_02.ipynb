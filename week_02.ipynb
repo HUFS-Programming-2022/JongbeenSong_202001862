{
 "cells": [
  {
   "cell_type": "markdown",
   "id": "0fb6460c",
   "metadata": {},
   "source": [
    "## 2주차 복습\n",
    "input() : console을 통해 input, str으로 받음"
   ]
  },
  {
   "cell_type": "code",
   "execution_count": 4,
   "id": "3adec343",
   "metadata": {},
   "outputs": [
    {
     "name": "stdout",
     "output_type": "stream",
     "text": [
      "what is your name? jb\n",
      "how old are you? 22\n",
      "jb was born in 2001.\n"
     ]
    }
   ],
   "source": [
    "name = input('what is your name? ')\n",
    "age = int(input('how old are you? '))\n",
    "year = 2022\n",
    "\n",
    "print(f'{name} was born in {year - age + 1}.')"
   ]
  },
  {
   "cell_type": "markdown",
   "id": "3123d7dc",
   "metadata": {},
   "source": [
    "print(): 여러 기능이 있음"
   ]
  },
  {
   "cell_type": "code",
   "execution_count": 8,
   "id": "0bcdb1a8",
   "metadata": {},
   "outputs": [
    {
     "name": "stdout",
     "output_type": "stream",
     "text": [
      "input your 3 favorite fruits: apple banana berry\n",
      "apple banana berry\n",
      "EOL"
     ]
    }
   ],
   "source": [
    "fruit_str_list = input('input your 3 favorite fruits: ')\n",
    "fruit_list = fruit_str_list.split()\n",
    "print(fruit_list[0], fruit_list[1], fruit_list[2], sep=' ', end='\\nEOL')"
   ]
  },
  {
   "cell_type": "markdown",
   "id": "3798090c",
   "metadata": {},
   "source": [
    "\\# 혹은 \"\"\" \"\"\"를 통해 주석 처리 가능"
   ]
  },
  {
   "cell_type": "code",
   "execution_count": 12,
   "id": "7f824f49",
   "metadata": {},
   "outputs": [
    {
     "name": "stdout",
     "output_type": "stream",
     "text": [
      "this will be printed\n"
     ]
    }
   ],
   "source": [
    "# print('this will not be printed')\n",
    "\n",
    "\"\"\"\n",
    "print('this will not be printed')\n",
    "\"\"\"\n",
    "\n",
    "print('this will be printed')"
   ]
  },
  {
   "cell_type": "markdown",
   "id": "3ce81558",
   "metadata": {},
   "source": [
    "if: 조건식을 이용하여 다양한 코드를 작성할 수 있음 (if - elif - else)"
   ]
  },
  {
   "cell_type": "code",
   "execution_count": 15,
   "id": "c36f08e0",
   "metadata": {},
   "outputs": [
    {
     "name": "stdout",
     "output_type": "stream",
     "text": [
      "If you like coca-cola, input 1 & if you like pepsi, input 2: 2\n",
      "your taste is weird\n"
     ]
    }
   ],
   "source": [
    "question = int(input('If you like coca-cola, input 1 & if you like pepsi, input 2: '))\n",
    "if question == 1:\n",
    "    print('you like coca-cola, not pepsi')\n",
    "elif question == 2:\n",
    "    print('your taste is weird')\n",
    "else:\n",
    "    print('you should\\'ve answered 1 or 2')"
   ]
  },
  {
   "cell_type": "markdown",
   "id": "778d5c18",
   "metadata": {},
   "source": [
    "integer: 정수를 나타내며, 음수는 앞에 '-', 숫자 사이에 쉼표 x, 연산자 통해 연산 가능"
   ]
  },
  {
   "cell_type": "code",
   "execution_count": 18,
   "id": "fd7deb89",
   "metadata": {},
   "outputs": [],
   "source": [
    "def calculator():\n",
    "    num1 = int(input('input the number1: '))\n",
    "    num2 = int(input('input the number2: '))\n",
    "    func = int(input('더하기 1, 빼기 2, 곱하기 3, 몫구하기 4, 나머지구하기 5, 나누기 6, 제곱하기 7: '))\n",
    "    if func == 1:\n",
    "        print(f'{num1} + {num2} = {num1 + num2}')\n",
    "    elif func == 2:\n",
    "        print(f'{num1} - {num2} = {num1 - num2}')\n",
    "    elif func == 3:\n",
    "        print(f'{num1} * {num2} = {num1 * num2}')\n",
    "    elif func == 4:\n",
    "        print(f'{num1} // {num2} = {num1 // num2}')\n",
    "    elif func == 5:\n",
    "        print(f'{num1} % {num2} = {num1 % num2}')\n",
    "    elif func == 6:\n",
    "        print(f'{num1} / {num2} = {num1 / num2}')\n",
    "    elif func == 7:\n",
    "        print(f'{num1} ** {num2} = {num1 ** num2}')\n",
    "    else:\n",
    "        print('your input is weird')"
   ]
  },
  {
   "cell_type": "code",
   "execution_count": 25,
   "id": "3c7147ee",
   "metadata": {},
   "outputs": [
    {
     "name": "stdout",
     "output_type": "stream",
     "text": [
      "input the number1: 6\n",
      "input the number2: 3\n",
      "더하기 1, 빼기 2, 곱하기 3, 몫구하기 4, 나머지구하기 5, 나누기 6, 제곱하기 7: 7\n",
      "6 ** 3 = 216\n"
     ]
    }
   ],
   "source": [
    "calculator()"
   ]
  },
  {
   "cell_type": "code",
   "execution_count": null,
   "id": "516ead8e",
   "metadata": {},
   "outputs": [],
   "source": []
  }
 ],
 "metadata": {
  "kernelspec": {
   "display_name": "Python 3 (ipykernel)",
   "language": "python",
   "name": "python3"
  },
  "language_info": {
   "codemirror_mode": {
    "name": "ipython",
    "version": 3
   },
   "file_extension": ".py",
   "mimetype": "text/x-python",
   "name": "python",
   "nbconvert_exporter": "python",
   "pygments_lexer": "ipython3",
   "version": "3.9.7"
  }
 },
 "nbformat": 4,
 "nbformat_minor": 5
}
