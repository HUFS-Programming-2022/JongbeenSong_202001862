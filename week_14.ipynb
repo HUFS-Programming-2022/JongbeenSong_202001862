{
 "cells": [
  {
   "cell_type": "markdown",
   "id": "06940559",
   "metadata": {},
   "source": [
    "## 함수 II\n",
    "1. 중첩함수\n",
    "    - 캡슐화 가능\n",
    "        - 내부 함수를 외부에서 따로 호출할 수 없음\n",
    "        - 책임 & 관리가 명확해짐 (+)\n",
    "\n",
    "2. 클로저\n",
    "    - 코드를 묶는 기술\n",
    "    - 자신을 둘러싼 scope와 상태값을 기억하는 함수\n",
    "    - 호출 전까지 메모리 사용 x -> 메모리의 효율적 사용 가능\n",
    "    - 함수 호출 시에만 사용 가능\n",
    "    \n",
    "    - 사용 조건\n",
    "        - 중첩함수일 것\n",
    "        - 외부 함수의 상태값을 참조해야할 것\n",
    "        - 외부함수가 내부 함수를 리턴할 것\n",
    "\n",
    "3. 데코레이터\n",
    "    - 함수를 선언하고 기능을 덮어 함수에 쓸 수 있음\n",
    "    - 메인 함수에 또 다른 함수를 데코레이터로 선언하여 사용할 수 있음\n",
    "    - 목적\n",
    "        - 재사용이 용이하다\n",
    "        - 가독성이 좋다\n",
    "        - 직관성이 강하다\n",
    "        \n",
    "4. scope: global, local, nonlocal\n",
    "    - 내부 함수는 외부 함수의 인자를 '참조'(읽기)만 가능\n",
    "    - nonlocal 예약어 활용\n",
    "    \n",
    "5. 제너레이터\n",
    "    - 한번 쓰면 사라짐 => 메모리 효율성 증대에 용이\n",
    "    - return 대신 yield 사용하여 순회하며 하나씩 반환\n",
    "        - 단순 호출하지 말고 for문 사용해서 yield해줘야 함\n",
    "    - 시퀀스 생성 객체\n",
    "    \n",
    "6. 재귀함수\n",
    "    - 자기 자신을 호출하는 함수\n",
    "    - 재귀가 너무 깊어지면 예외 발생\n",
    "    \n",
    "7. 예외 처리\n",
    "    - 프로그램 동작 중 예외가 발생했을 때 대처\n",
    "    - 사용자에게 예외를 알리고 정해진 조치를 취함\n",
    "    - 프로그램의 정상적 종료가 가능함"
   ]
  },
  {
   "cell_type": "markdown",
   "id": "a6bbcbba",
   "metadata": {},
   "source": [
    "# 중첩함수"
   ]
  },
  {
   "cell_type": "code",
   "execution_count": 3,
   "id": "b17439bb",
   "metadata": {},
   "outputs": [
    {
     "name": "stdout",
     "output_type": "stream",
     "text": [
      "받은 두 인자 a, b는 2, 3\n",
      "받은 두 인자 c, d는 2, 3\n",
      "내부 함수 결과는 c + d = 5\n"
     ]
    },
    {
     "data": {
      "text/plain": [
       "(5, '결과값')"
      ]
     },
     "execution_count": 3,
     "metadata": {},
     "output_type": "execute_result"
    }
   ],
   "source": [
    "def example_outside(a, b):\n",
    "    print(f'받은 두 인자 a, b는 {a}, {b}')\n",
    "    \n",
    "    def example_inside(c, d):\n",
    "        print(f'받은 두 인자 c, d는 {c}, {d}')\n",
    "        print(f'내부 함수 결과는 c + d = {c+d}')\n",
    "        return c + d\n",
    "    \n",
    "    return example_inside(a, b), '결과값'\n",
    "\n",
    "example_outside(2, 3)"
   ]
  },
  {
   "cell_type": "code",
   "execution_count": 4,
   "id": "e4061beb",
   "metadata": {},
   "outputs": [
    {
     "ename": "NameError",
     "evalue": "name 'example_inside' is not defined",
     "output_type": "error",
     "traceback": [
      "\u001b[1;31m---------------------------------------------------------------------------\u001b[0m",
      "\u001b[1;31mNameError\u001b[0m                                 Traceback (most recent call last)",
      "\u001b[1;32mC:\\Users\\SONGJO~1\\AppData\\Local\\Temp/ipykernel_23120/3506882353.py\u001b[0m in \u001b[0;36m<module>\u001b[1;34m\u001b[0m\n\u001b[0;32m      1\u001b[0m \u001b[1;31m# 외부에서 호출 불가\u001b[0m\u001b[1;33m\u001b[0m\u001b[1;33m\u001b[0m\u001b[0m\n\u001b[1;32m----> 2\u001b[1;33m \u001b[0mexample_inside\u001b[0m\u001b[1;33m(\u001b[0m\u001b[0mc\u001b[0m\u001b[1;33m,\u001b[0m \u001b[0md\u001b[0m\u001b[1;33m)\u001b[0m\u001b[1;33m\u001b[0m\u001b[1;33m\u001b[0m\u001b[0m\n\u001b[0m",
      "\u001b[1;31mNameError\u001b[0m: name 'example_inside' is not defined"
     ]
    }
   ],
   "source": [
    "# 외부에서 호출 불가\n",
    "example_inside(c, d)"
   ]
  },
  {
   "cell_type": "code",
   "execution_count": 5,
   "id": "e9c3478d",
   "metadata": {},
   "outputs": [
    {
     "data": {
      "text/plain": [
       "'I am student majoring in ELLT'"
      ]
     },
     "execution_count": 5,
     "metadata": {},
     "output_type": "execute_result"
    }
   ],
   "source": [
    "def students(information):\n",
    "    def self_introduce(major):\n",
    "        return f'I am student majoring in {major}'\n",
    "    \n",
    "    return self_introduce(information)\n",
    "\n",
    "alex = students('ELLT')\n",
    "alex"
   ]
  },
  {
   "cell_type": "markdown",
   "id": "3c47a1c9",
   "metadata": {},
   "source": [
    "# 클로저"
   ]
  },
  {
   "cell_type": "code",
   "execution_count": 6,
   "id": "c1d7ea0e",
   "metadata": {},
   "outputs": [
    {
     "data": {
      "text/plain": [
       "<function __main__.add.<locals>.inner_add(y)>"
      ]
     },
     "execution_count": 6,
     "metadata": {},
     "output_type": "execute_result"
    }
   ],
   "source": [
    "def add(x):\n",
    "    def inner_add(y):\n",
    "        return x + y\n",
    "    \n",
    "    # inner_add()로 함수 실행시킨 것이 아니라 함수 자체를 반환함\n",
    "    return inner_add\n",
    "\n",
    "add(5)"
   ]
  },
  {
   "cell_type": "code",
   "execution_count": 8,
   "id": "a8b0b36c",
   "metadata": {},
   "outputs": [
    {
     "data": {
      "text/plain": [
       "8"
      ]
     },
     "execution_count": 8,
     "metadata": {},
     "output_type": "execute_result"
    }
   ],
   "source": [
    "a5 = add(5)\n",
    "a5(3)"
   ]
  },
  {
   "cell_type": "code",
   "execution_count": 9,
   "id": "5b1a55b1",
   "metadata": {},
   "outputs": [],
   "source": [
    "del(add)"
   ]
  },
  {
   "cell_type": "code",
   "execution_count": 10,
   "id": "e42ffb2d",
   "metadata": {},
   "outputs": [
    {
     "ename": "NameError",
     "evalue": "name 'add' is not defined",
     "output_type": "error",
     "traceback": [
      "\u001b[1;31m---------------------------------------------------------------------------\u001b[0m",
      "\u001b[1;31mNameError\u001b[0m                                 Traceback (most recent call last)",
      "\u001b[1;32mC:\\Users\\SONGJO~1\\AppData\\Local\\Temp/ipykernel_23120/2355977476.py\u001b[0m in \u001b[0;36m<module>\u001b[1;34m\u001b[0m\n\u001b[1;32m----> 1\u001b[1;33m \u001b[0madd\u001b[0m\u001b[1;33m\u001b[0m\u001b[1;33m\u001b[0m\u001b[0m\n\u001b[0m",
      "\u001b[1;31mNameError\u001b[0m: name 'add' is not defined"
     ]
    }
   ],
   "source": [
    "add"
   ]
  },
  {
   "cell_type": "code",
   "execution_count": 12,
   "id": "aa7087b5",
   "metadata": {},
   "outputs": [
    {
     "data": {
      "text/plain": [
       "7"
      ]
     },
     "execution_count": 12,
     "metadata": {},
     "output_type": "execute_result"
    }
   ],
   "source": [
    "a5(2) # 삭제해도 변수에 저장한 값은 그대로 남아있음"
   ]
  },
  {
   "cell_type": "markdown",
   "id": "fbbc08de",
   "metadata": {},
   "source": [
    "# 데코레이터"
   ]
  },
  {
   "cell_type": "code",
   "execution_count": 13,
   "id": "80491d3d",
   "metadata": {},
   "outputs": [
    {
     "data": {
      "text/plain": [
       "9"
      ]
     },
     "execution_count": 13,
     "metadata": {},
     "output_type": "execute_result"
    }
   ],
   "source": [
    "def add(a,b):\n",
    "    return a + b\n",
    "\n",
    "def document_it(func):\n",
    "    def new_func(*args, **kargs):\n",
    "        print('arguments: ', args)\n",
    "        print(\"key arguments: \", kargs)\n",
    "        return func(*args, **kargs)\n",
    "    return\n",
    "\n",
    "add(4, 5)"
   ]
  },
  {
   "cell_type": "code",
   "execution_count": 16,
   "id": "5e0a807d",
   "metadata": {},
   "outputs": [
    {
     "name": "stdout",
     "output_type": "stream",
     "text": [
      "arguments:  (1, 3)\n",
      "key arguments:  {}\n"
     ]
    },
    {
     "data": {
      "text/plain": [
       "4"
      ]
     },
     "execution_count": 16,
     "metadata": {},
     "output_type": "execute_result"
    }
   ],
   "source": [
    "def document_it(func):\n",
    "    def new_func(*args, **kargs):\n",
    "        print('arguments: ', args)\n",
    "        print(\"key arguments: \", kargs)\n",
    "        return func(*args, **kargs)\n",
    "    return new_func\n",
    "\n",
    "@document_it\n",
    "def add(a,b):\n",
    "    return a + b\n",
    "\n",
    "add(1, 3)"
   ]
  },
  {
   "cell_type": "code",
   "execution_count": 17,
   "id": "710ab524",
   "metadata": {},
   "outputs": [
    {
     "name": "stdout",
     "output_type": "stream",
     "text": [
      "9\n"
     ]
    },
    {
     "data": {
      "text/plain": [
       "81"
      ]
     },
     "execution_count": 17,
     "metadata": {},
     "output_type": "execute_result"
    }
   ],
   "source": [
    "def square(func):\n",
    "    def new_func(*args):\n",
    "        result = func(*args)\n",
    "        return result * result\n",
    "    return new_func\n",
    "\n",
    "@square\n",
    "def add(a, b):\n",
    "    print(a+b)\n",
    "    return a + b\n",
    "\n",
    "add(3, 6)"
   ]
  },
  {
   "cell_type": "markdown",
   "id": "4ac353ab",
   "metadata": {},
   "source": [
    "# scope: global, local, nonlocal"
   ]
  },
  {
   "cell_type": "code",
   "execution_count": 18,
   "id": "bf3feb6f",
   "metadata": {},
   "outputs": [
    {
     "data": {
      "text/plain": [
       "11"
      ]
     },
     "execution_count": 18,
     "metadata": {},
     "output_type": "execute_result"
    }
   ],
   "source": [
    "z = 3\n",
    "\n",
    "def outer(x):\n",
    "    y = 4\n",
    "    \n",
    "    def inner():\n",
    "        nonlocal x\n",
    "        x+=1 # 제일 가까운걸 먼저 인식\n",
    "        return x\n",
    "    \n",
    "    return inner()\n",
    "\n",
    "outer(10)"
   ]
  },
  {
   "cell_type": "code",
   "execution_count": 19,
   "id": "f8520268",
   "metadata": {},
   "outputs": [],
   "source": [
    "def my_func(nums:list):\n",
    "    '''\n",
    "    가변인자 -> 리턴 없이도 리턴 얻어 반환함\n",
    "    이런 코드든 사용을 지양해야하며,\n",
    "    사용하게 된다면 문서화를 꼭 해야함\n",
    "    '''\n",
    "    nums.append(sum(nums))\n",
    "    \n",
    "a = [7, 5, 13]\n",
    "my_func(a)\n",
    "my_func(a)\n",
    "my_func(a)\n",
    "my_func(a)"
   ]
  },
  {
   "cell_type": "markdown",
   "id": "5291e762",
   "metadata": {},
   "source": [
    "# 제너레이터"
   ]
  },
  {
   "cell_type": "code",
   "execution_count": 23,
   "id": "4aa242d9",
   "metadata": {},
   "outputs": [],
   "source": [
    "cars = ['hyundai', 'kia', 'bmw', 'audi']\n",
    "\n",
    "def drive(car_list):\n",
    "    for car in car_list:\n",
    "        yield f'I am driving {car}'\n",
    "        \n",
    "car_alarm = drive(cars)"
   ]
  },
  {
   "cell_type": "code",
   "execution_count": 24,
   "id": "2d0b60fd",
   "metadata": {},
   "outputs": [
    {
     "name": "stdout",
     "output_type": "stream",
     "text": [
      "I am driving hyundai\n",
      "I am driving kia\n",
      "I am driving bmw\n",
      "I am driving audi\n"
     ]
    }
   ],
   "source": [
    "for alarm in car_alarm:\n",
    "    print(alarm)"
   ]
  },
  {
   "cell_type": "code",
   "execution_count": 25,
   "id": "338dc7d2",
   "metadata": {},
   "outputs": [],
   "source": [
    "for alarm in car_alarm:\n",
    "    print(alarm) # 한번 사용하면 끝남"
   ]
  },
  {
   "cell_type": "code",
   "execution_count": 26,
   "id": "ef5719db",
   "metadata": {},
   "outputs": [],
   "source": [
    "def my_range(start, end, step=1):\n",
    "    nvm = start\n",
    "    while True:\n",
    "        yield nvm\n",
    "        nvm += step\n",
    "        if nvm > end:\n",
    "            break\n",
    "    \n",
    "ranger = my_range(1, 10)"
   ]
  },
  {
   "cell_type": "code",
   "execution_count": 27,
   "id": "b3db9283",
   "metadata": {},
   "outputs": [],
   "source": [
    "ranger = (i for i in range(1, 10))"
   ]
  },
  {
   "cell_type": "markdown",
   "id": "92b7102b",
   "metadata": {},
   "source": [
    "# 재귀함수"
   ]
  },
  {
   "cell_type": "code",
   "execution_count": 29,
   "id": "32e451e4",
   "metadata": {},
   "outputs": [],
   "source": [
    "def flatten(sent):\n",
    "    for word in sent:\n",
    "        if isinstance(word, list):\n",
    "            # 리스트가 맞다\n",
    "            for sub_word in flatten(word):\n",
    "                yield sub_word\n",
    "        else:\n",
    "            yield word\n",
    "            \n",
    "a = [1, 2, [2, 3, 4], [[[1, 2]]]]"
   ]
  },
  {
   "cell_type": "code",
   "execution_count": 30,
   "id": "6ff065f5",
   "metadata": {},
   "outputs": [
    {
     "name": "stdout",
     "output_type": "stream",
     "text": [
      "1\n",
      "2\n",
      "2\n",
      "3\n",
      "4\n",
      "1\n",
      "2\n"
     ]
    }
   ],
   "source": [
    "for i in flatten(a):\n",
    "    print(i)"
   ]
  },
  {
   "cell_type": "code",
   "execution_count": 32,
   "id": "ef052965",
   "metadata": {},
   "outputs": [],
   "source": [
    "# Python 3.3 이상\n",
    "def flatten(sent):\n",
    "    for word in sent:\n",
    "        if isinstance(word, list):\n",
    "            yield from flatten(word)\n",
    "        else:\n",
    "            yield word\n",
    "            \n",
    "a = [1, 2, [2, 3, 4], [[[1, 2]]]]"
   ]
  },
  {
   "cell_type": "code",
   "execution_count": 33,
   "id": "f4fe03c7",
   "metadata": {},
   "outputs": [
    {
     "name": "stdout",
     "output_type": "stream",
     "text": [
      "1\n",
      "2\n",
      "2\n",
      "3\n",
      "4\n",
      "1\n",
      "2\n"
     ]
    }
   ],
   "source": [
    "for i in flatten(a):\n",
    "    print(i)"
   ]
  },
  {
   "cell_type": "markdown",
   "id": "c1b96bef",
   "metadata": {},
   "source": [
    "# 예외처리\n",
    "1. index error: 인덱스 벗어날때\n",
    "2. value error: int('hello')와 같이 값이 맞지 않을때\n",
    "3. name error: 선언해주지 않은 변수나 잘못된 이름의 변수 불러올때"
   ]
  },
  {
   "cell_type": "code",
   "execution_count": 34,
   "id": "08f07e51",
   "metadata": {},
   "outputs": [
    {
     "name": "stdout",
     "output_type": "stream",
     "text": [
      "0으로 나눌 수 없다\n",
      "4.0\n",
      "2.0\n",
      "1.3333333333333333\n"
     ]
    }
   ],
   "source": [
    "for i in range(4):\n",
    "    try:\n",
    "        print(4/i)\n",
    "    \n",
    "    except ZeroDivisionError:\n",
    "        print(\"0으로 나눌 수 없다\")"
   ]
  },
  {
   "cell_type": "code",
   "execution_count": 36,
   "id": "8406fedc",
   "metadata": {},
   "outputs": [
    {
     "name": "stdout",
     "output_type": "stream",
     "text": [
      "input index: 11\n",
      "r\n",
      "input index: 12\n",
      "string index out of range\n",
      "input index: word\n",
      "invalid literal for int() with base 10: 'word'\n",
      "input index: q\n"
     ]
    }
   ],
   "source": [
    "word = 'harry potter'\n",
    "\n",
    "while True:\n",
    "    index = input('input index: ')\n",
    "    if index == 'q':\n",
    "        break\n",
    "    \n",
    "    try:\n",
    "        index = int(index) #value error, index error\n",
    "        print(word[index])\n",
    "        \n",
    "    except ValueError as error1:\n",
    "        print(error1)\n",
    "    except IndexError as error2:\n",
    "        print(error2)"
   ]
  },
  {
   "cell_type": "markdown",
   "id": "2a178f59",
   "metadata": {},
   "source": [
    "# 예외 일으키기\n",
    "- 원하는 타이밍에 강제종료시킬 수 있음\n",
    "- raise, assert\n",
    "- assert는 많이 씀. if, else 없이 assertion으로 막아주고 싶을 때 사용\n",
    "    - assert는 True 보장\n",
    "- raise 예외타입 (메세지) 형식으로 사용\n",
    "- assert <True 조건>, <False일때 메세지>"
   ]
  },
  {
   "cell_type": "code",
   "execution_count": 37,
   "id": "bca79fa5",
   "metadata": {},
   "outputs": [
    {
     "name": "stdout",
     "output_type": "stream",
     "text": [
      "alphabet input: 3\n"
     ]
    },
    {
     "ename": "ValueError",
     "evalue": "Input is not an alphabet",
     "output_type": "error",
     "traceback": [
      "\u001b[1;31m---------------------------------------------------------------------------\u001b[0m",
      "\u001b[1;31mValueError\u001b[0m                                Traceback (most recent call last)",
      "\u001b[1;32mC:\\Users\\SONGJO~1\\AppData\\Local\\Temp/ipykernel_23120/584422554.py\u001b[0m in \u001b[0;36m<module>\u001b[1;34m\u001b[0m\n\u001b[0;32m      2\u001b[0m     \u001b[0malphabet\u001b[0m \u001b[1;33m=\u001b[0m \u001b[0minput\u001b[0m\u001b[1;33m(\u001b[0m\u001b[1;34m'alphabet input: '\u001b[0m\u001b[1;33m)\u001b[0m\u001b[1;33m\u001b[0m\u001b[1;33m\u001b[0m\u001b[0m\n\u001b[0;32m      3\u001b[0m     \u001b[1;32mif\u001b[0m \u001b[1;32mnot\u001b[0m \u001b[0malphabet\u001b[0m\u001b[1;33m.\u001b[0m\u001b[0misalpha\u001b[0m\u001b[1;33m(\u001b[0m\u001b[1;33m)\u001b[0m\u001b[1;33m:\u001b[0m\u001b[1;33m\u001b[0m\u001b[1;33m\u001b[0m\u001b[0m\n\u001b[1;32m----> 4\u001b[1;33m         \u001b[1;32mraise\u001b[0m \u001b[0mValueError\u001b[0m\u001b[1;33m(\u001b[0m\u001b[1;34m'Input is not an alphabet'\u001b[0m\u001b[1;33m)\u001b[0m\u001b[1;33m\u001b[0m\u001b[1;33m\u001b[0m\u001b[0m\n\u001b[0m",
      "\u001b[1;31mValueError\u001b[0m: Input is not an alphabet"
     ]
    }
   ],
   "source": [
    "while True:\n",
    "    alphabet = input('alphabet input: ')\n",
    "    if not alphabet.isalpha():\n",
    "        raise ValueError('Input is not an alphabet')"
   ]
  },
  {
   "cell_type": "code",
   "execution_count": 38,
   "id": "3971aa17",
   "metadata": {},
   "outputs": [
    {
     "ename": "AssertionError",
     "evalue": "문자열 아님",
     "output_type": "error",
     "traceback": [
      "\u001b[1;31m---------------------------------------------------------------------------\u001b[0m",
      "\u001b[1;31mAssertionError\u001b[0m                            Traceback (most recent call last)",
      "\u001b[1;32mC:\\Users\\SONGJO~1\\AppData\\Local\\Temp/ipykernel_23120/3622293690.py\u001b[0m in \u001b[0;36m<module>\u001b[1;34m\u001b[0m\n\u001b[0;32m      3\u001b[0m     \u001b[1;32mreturn\u001b[0m \u001b[0minput_string\u001b[0m\u001b[1;33m\u001b[0m\u001b[1;33m\u001b[0m\u001b[0m\n\u001b[0;32m      4\u001b[0m \u001b[1;33m\u001b[0m\u001b[0m\n\u001b[1;32m----> 5\u001b[1;33m \u001b[0mget_string\u001b[0m\u001b[1;33m(\u001b[0m\u001b[1;36m10\u001b[0m\u001b[1;33m)\u001b[0m\u001b[1;33m\u001b[0m\u001b[1;33m\u001b[0m\u001b[0m\n\u001b[0m",
      "\u001b[1;32mC:\\Users\\SONGJO~1\\AppData\\Local\\Temp/ipykernel_23120/3622293690.py\u001b[0m in \u001b[0;36mget_string\u001b[1;34m(input_string)\u001b[0m\n\u001b[0;32m      1\u001b[0m \u001b[1;32mdef\u001b[0m \u001b[0mget_string\u001b[0m\u001b[1;33m(\u001b[0m\u001b[0minput_string\u001b[0m\u001b[1;33m)\u001b[0m\u001b[1;33m:\u001b[0m\u001b[1;33m\u001b[0m\u001b[1;33m\u001b[0m\u001b[0m\n\u001b[1;32m----> 2\u001b[1;33m     \u001b[1;32massert\u001b[0m \u001b[0misinstance\u001b[0m\u001b[1;33m(\u001b[0m\u001b[0minput_string\u001b[0m\u001b[1;33m,\u001b[0m \u001b[0mstr\u001b[0m\u001b[1;33m)\u001b[0m\u001b[1;33m,\u001b[0m \u001b[1;34m'문자열 아님'\u001b[0m\u001b[1;33m\u001b[0m\u001b[1;33m\u001b[0m\u001b[0m\n\u001b[0m\u001b[0;32m      3\u001b[0m     \u001b[1;32mreturn\u001b[0m \u001b[0minput_string\u001b[0m\u001b[1;33m\u001b[0m\u001b[1;33m\u001b[0m\u001b[0m\n\u001b[0;32m      4\u001b[0m \u001b[1;33m\u001b[0m\u001b[0m\n\u001b[0;32m      5\u001b[0m \u001b[0mget_string\u001b[0m\u001b[1;33m(\u001b[0m\u001b[1;36m10\u001b[0m\u001b[1;33m)\u001b[0m\u001b[1;33m\u001b[0m\u001b[1;33m\u001b[0m\u001b[0m\n",
      "\u001b[1;31mAssertionError\u001b[0m: 문자열 아님"
     ]
    }
   ],
   "source": [
    "def get_string(input_string):\n",
    "    assert isinstance(input_string, str), '문자열 아님'\n",
    "    return input_string\n",
    "\n",
    "get_string(10)"
   ]
  },
  {
   "cell_type": "markdown",
   "id": "669a6ccf",
   "metadata": {},
   "source": [
    "# 사용자 정의 예외 타입\n",
    "- 예외 클래스 선언 후 exception 클래스 상속받음"
   ]
  },
  {
   "cell_type": "code",
   "execution_count": 39,
   "id": "95191b17",
   "metadata": {},
   "outputs": [
    {
     "name": "stdout",
     "output_type": "stream",
     "text": [
      "Error has detected\n"
     ]
    }
   ],
   "source": [
    "class MyException(Exception):\n",
    "    print('Error has detected')"
   ]
  },
  {
   "cell_type": "code",
   "execution_count": 44,
   "id": "b9e6fc46",
   "metadata": {},
   "outputs": [
    {
     "name": "stdout",
     "output_type": "stream",
     "text": [
      "which menu would you like? apple\n"
     ]
    },
    {
     "ename": "MyException",
     "evalue": "",
     "output_type": "error",
     "traceback": [
      "\u001b[1;31m---------------------------------------------------------------------------\u001b[0m",
      "\u001b[1;31mMyException\u001b[0m                               Traceback (most recent call last)",
      "\u001b[1;32mC:\\Users\\SONGJO~1\\AppData\\Local\\Temp/ipykernel_23120/3591670524.py\u001b[0m in \u001b[0;36m<module>\u001b[1;34m\u001b[0m\n\u001b[0;32m      3\u001b[0m \u001b[0morder\u001b[0m \u001b[1;33m=\u001b[0m \u001b[0minput\u001b[0m\u001b[1;33m(\u001b[0m\u001b[1;34m'which menu would you like? '\u001b[0m\u001b[1;33m)\u001b[0m\u001b[1;33m\u001b[0m\u001b[1;33m\u001b[0m\u001b[0m\n\u001b[0;32m      4\u001b[0m \u001b[1;32mif\u001b[0m \u001b[0morder\u001b[0m \u001b[1;32mnot\u001b[0m \u001b[1;32min\u001b[0m \u001b[0mmenu\u001b[0m\u001b[1;33m:\u001b[0m\u001b[1;33m\u001b[0m\u001b[1;33m\u001b[0m\u001b[0m\n\u001b[1;32m----> 5\u001b[1;33m     \u001b[1;32mraise\u001b[0m \u001b[0mMyException\u001b[0m\u001b[1;33m\u001b[0m\u001b[1;33m\u001b[0m\u001b[0m\n\u001b[0m",
      "\u001b[1;31mMyException\u001b[0m: "
     ]
    }
   ],
   "source": [
    "menu = ['burger', 'pizza', 'fried chicken']\n",
    "\n",
    "order = input('which menu would you like? ')\n",
    "if order not in menu:\n",
    "    raise MyException"
   ]
  },
  {
   "cell_type": "code",
   "execution_count": 40,
   "id": "15f4b75a",
   "metadata": {},
   "outputs": [],
   "source": [
    "class LowerCaseException(Exception):\n",
    "    def __init__(self):\n",
    "        super().__init__('Error has detected: no lower case')"
   ]
  },
  {
   "cell_type": "code",
   "execution_count": 41,
   "id": "bc28a94b",
   "metadata": {},
   "outputs": [],
   "source": [
    "cars = ['kia', 'hyundai', 'BMW']"
   ]
  },
  {
   "cell_type": "code",
   "execution_count": 42,
   "id": "3b4f7659",
   "metadata": {},
   "outputs": [
    {
     "ename": "LowerCaseException",
     "evalue": "Error has detected: no lower case",
     "output_type": "error",
     "traceback": [
      "\u001b[1;31m---------------------------------------------------------------------------\u001b[0m",
      "\u001b[1;31mLowerCaseException\u001b[0m                        Traceback (most recent call last)",
      "\u001b[1;32mC:\\Users\\SONGJO~1\\AppData\\Local\\Temp/ipykernel_23120/1662843799.py\u001b[0m in \u001b[0;36m<module>\u001b[1;34m\u001b[0m\n\u001b[0;32m      1\u001b[0m \u001b[1;32mfor\u001b[0m \u001b[0mcar\u001b[0m \u001b[1;32min\u001b[0m \u001b[0mcars\u001b[0m\u001b[1;33m:\u001b[0m\u001b[1;33m\u001b[0m\u001b[1;33m\u001b[0m\u001b[0m\n\u001b[0;32m      2\u001b[0m     \u001b[1;32mif\u001b[0m \u001b[0mcar\u001b[0m\u001b[1;33m.\u001b[0m\u001b[0mislower\u001b[0m\u001b[1;33m(\u001b[0m\u001b[1;33m)\u001b[0m\u001b[1;33m:\u001b[0m\u001b[1;33m\u001b[0m\u001b[1;33m\u001b[0m\u001b[0m\n\u001b[1;32m----> 3\u001b[1;33m         \u001b[1;32mraise\u001b[0m \u001b[0mLowerCaseException\u001b[0m\u001b[1;33m\u001b[0m\u001b[1;33m\u001b[0m\u001b[0m\n\u001b[0m\u001b[0;32m      4\u001b[0m \u001b[1;33m\u001b[0m\u001b[0m\n\u001b[0;32m      5\u001b[0m     \u001b[1;32melse\u001b[0m\u001b[1;33m:\u001b[0m\u001b[1;33m\u001b[0m\u001b[1;33m\u001b[0m\u001b[0m\n",
      "\u001b[1;31mLowerCaseException\u001b[0m: Error has detected: no lower case"
     ]
    }
   ],
   "source": [
    "for car in cars:\n",
    "    if car.islower():\n",
    "        raise LowerCaseException\n",
    "        \n",
    "    else:\n",
    "        print(car)"
   ]
  },
  {
   "cell_type": "code",
   "execution_count": null,
   "id": "94fd2b77",
   "metadata": {},
   "outputs": [],
   "source": []
  }
 ],
 "metadata": {
  "kernelspec": {
   "display_name": "Python 3 (ipykernel)",
   "language": "python",
   "name": "python3"
  },
  "language_info": {
   "codemirror_mode": {
    "name": "ipython",
    "version": 3
   },
   "file_extension": ".py",
   "mimetype": "text/x-python",
   "name": "python",
   "nbconvert_exporter": "python",
   "pygments_lexer": "ipython3",
   "version": "3.9.7"
  }
 },
 "nbformat": 4,
 "nbformat_minor": 5
}
