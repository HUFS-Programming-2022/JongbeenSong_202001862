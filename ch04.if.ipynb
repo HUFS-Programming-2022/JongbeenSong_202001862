{
 "cells": [
  {
   "cell_type": "markdown",
   "id": "ebd5629a",
   "metadata": {},
   "source": [
    "### IF 조건문"
   ]
  },
  {
   "cell_type": "markdown",
   "id": "43537cf7",
   "metadata": {},
   "source": [
    "#### 코드 짜는 팁\n",
    "- 주석 달기\n",
    "    - '#' hash, sharp, ..\n",
    "    - '#' 시작지점부터 라인 끝까지가 주석 처리됨. 라인이 바뀌면 코드로 인식\n",
    "    - \"\"\" <주석> \"\"\"\n",
    "    - 문자열 안에 있는 sharp는 부호로 인식한다.\n",
    "    - 이유? 코드에 대한 설명은 최대한 하지 않는다. 의도를 나타내기 위해, 오류가 있다거나, ...\n",
    "    \n",
    "- 라인 유지하기\n",
    "    - 들여쓰기 (default space 4개, 탭을 이용해서)\n",
    "    - 논리 구조를 나타내기 때문에 굉장히 중요함.\n",
    "    - 한 라인에 80자 정도 (암묵적인 합의) -> 백슬래시('\\\\')로 라인 끊어줌)"
   ]
  },
  {
   "cell_type": "code",
   "execution_count": 1,
   "id": "1e1f06b0",
   "metadata": {},
   "outputs": [],
   "source": [
    "a = 3 # 주석입니다"
   ]
  },
  {
   "cell_type": "code",
   "execution_count": 2,
   "id": "43260a92",
   "metadata": {},
   "outputs": [
    {
     "name": "stdout",
     "output_type": "stream",
     "text": [
      "3\n"
     ]
    }
   ],
   "source": [
    "\"\"\"\n",
    "주석1\n",
    "주석2\n",
    "주석3\n",
    "\"\"\"\n",
    "\n",
    "print(a)"
   ]
  },
  {
   "cell_type": "code",
   "execution_count": 3,
   "id": "0aed766d",
   "metadata": {},
   "outputs": [
    {
     "name": "stdout",
     "output_type": "stream",
     "text": [
      "hey, there #\n"
     ]
    }
   ],
   "source": [
    "print('hey, there #')"
   ]
  },
  {
   "cell_type": "markdown",
   "id": "bc362ce8",
   "metadata": {},
   "source": [
    "### if\n",
    "if <조건식>:\n",
    "    <실행할 코드>"
   ]
  },
  {
   "cell_type": "code",
   "execution_count": 5,
   "id": "94c7888d",
   "metadata": {},
   "outputs": [
    {
     "name": "stdout",
     "output_type": "stream",
     "text": [
      "두 수는 같지 않다\n"
     ]
    }
   ],
   "source": [
    "if 3 != 1:\n",
    "    print('두 수는 같지 않다')"
   ]
  },
  {
   "cell_type": "markdown",
   "id": "f8ffcd60",
   "metadata": {},
   "source": [
    "- if-else\n",
    "if <조건식>:\n",
    "    <실행할 코드1>\n",
    "else:\n",
    "    <실행할 코드2>"
   ]
  },
  {
   "cell_type": "code",
   "execution_count": 6,
   "id": "e5733cf9",
   "metadata": {},
   "outputs": [
    {
     "name": "stdout",
     "output_type": "stream",
     "text": [
      "두 수는 같지 않다\n"
     ]
    }
   ],
   "source": [
    "if 3 != 1:\n",
    "    print('두 수는 같지 않다')\n",
    "else:\n",
    "    print('두 수가 같다')"
   ]
  },
  {
   "cell_type": "markdown",
   "id": "fae61fe5",
   "metadata": {},
   "source": [
    "- if-elif-else\n",
    "if <조건식1>:\n",
    "    <실행할 코드1>\n",
    "elif <조건식2>:\n",
    "    <실행할 코드2>\n",
    "else:\n",
    "    <실행할 코드3>"
   ]
  },
  {
   "cell_type": "code",
   "execution_count": 8,
   "id": "d815775a",
   "metadata": {},
   "outputs": [
    {
     "name": "stdout",
     "output_type": "stream",
     "text": [
      "3보다 크다\n"
     ]
    }
   ],
   "source": [
    "a = 4\n",
    "if a < 3:\n",
    "    print('3보다 작다')\n",
    "elif a == 3:\n",
    "    print('3이다')\n",
    "else:\n",
    "    print('3보다 크다')"
   ]
  },
  {
   "cell_type": "code",
   "execution_count": 10,
   "id": "b64833fa",
   "metadata": {},
   "outputs": [],
   "source": [
    "if a < 3:\n",
    "    print('3보다 작다')\n",
    "    \n",
    "if a == 3:\n",
    "    print('3이다')\n",
    "\n",
    "if a > 4:\n",
    "    print('4보다 크다')"
   ]
  },
  {
   "cell_type": "markdown",
   "id": "9dfffa96",
   "metadata": {},
   "source": [
    "### 비교연산자\n",
    "- x < y\n",
    "- x > y\n",
    "- x >= y\n",
    "- x <= y\n",
    "- x == y (값이)\n",
    "- x != y\n",
    "- x is y (값, 메모리 주소)\n",
    "- x is not y"
   ]
  },
  {
   "cell_type": "markdown",
   "id": "3e3e3cc9",
   "metadata": {},
   "source": [
    "### 퀴즈\n",
    "- 1. 시험 점수를 입력받고, 80점 이상이면 True, 아니면 False 반환하기\n",
    "- 2. 시험 점수를 입력받고, 95점 이상 A+, 90점 이상 A, 85점 이상 B+, 나머지 F로 출력하세요."
   ]
  },
  {
   "cell_type": "code",
   "execution_count": 11,
   "id": "d51f87da",
   "metadata": {},
   "outputs": [
    {
     "name": "stdout",
     "output_type": "stream",
     "text": [
      "input your test score: 80\n"
     ]
    }
   ],
   "source": [
    "test_score = int(input('input your test score: '))"
   ]
  },
  {
   "cell_type": "code",
   "execution_count": 13,
   "id": "a31205ff",
   "metadata": {},
   "outputs": [
    {
     "name": "stdout",
     "output_type": "stream",
     "text": [
      "True\n"
     ]
    }
   ],
   "source": [
    "if test_score >= 80:\n",
    "    print(True)\n",
    "else:\n",
    "    print(False)"
   ]
  },
  {
   "cell_type": "code",
   "execution_count": 14,
   "id": "0dd06253",
   "metadata": {},
   "outputs": [
    {
     "name": "stdout",
     "output_type": "stream",
     "text": [
      "F\n"
     ]
    }
   ],
   "source": [
    "if test_score >= 95:\n",
    "    print('A+')\n",
    "elif test_score >= 90:\n",
    "    print('A')\n",
    "elif test_score >= 85:\n",
    "    print('B+')\n",
    "else:\n",
    "    print('F')"
   ]
  },
  {
   "cell_type": "code",
   "execution_count": null,
   "id": "ff5e0f33",
   "metadata": {},
   "outputs": [],
   "source": []
  }
 ],
 "metadata": {
  "kernelspec": {
   "display_name": "Python 3 (ipykernel)",
   "language": "python",
   "name": "python3"
  },
  "language_info": {
   "codemirror_mode": {
    "name": "ipython",
    "version": 3
   },
   "file_extension": ".py",
   "mimetype": "text/x-python",
   "name": "python",
   "nbconvert_exporter": "python",
   "pygments_lexer": "ipython3",
   "version": "3.9.7"
  }
 },
 "nbformat": 4,
 "nbformat_minor": 5
}
