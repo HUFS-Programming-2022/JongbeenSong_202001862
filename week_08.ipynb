{
 "cells": [
  {
   "cell_type": "markdown",
   "id": "ebec1475",
   "metadata": {},
   "source": [
    "### Dictionary\n",
    "- 영어사전이라고 생가하면, 단어: 뜻\n",
    "- 키: 값\n",
    "- 순서가 없다 => 오프셋 없음 (인덱스 x)\n",
    "- 가변 객체 (수정, 추가, 삭제 가능\n",
    "- 타입: dict, dict()\n",
    "- 생성: {k1: v1, k2: v2, ...} 중괄호 사용\n",
    "- value에는 리스트, 튜플, 딕셔너리 등 다양한 자료형이 들어갈 수 있음"
   ]
  },
  {
   "cell_type": "code",
   "execution_count": 3,
   "id": "1411c4a1",
   "metadata": {},
   "outputs": [
    {
     "name": "stdout",
     "output_type": "stream",
     "text": [
      "{1010: ['김민수', 'ELLT'], 1011: ['나영희', 'EICC'], 1012: ['한철수', 'ELC'], 1013: ['박명수', 'CS'], 1014: ['송지희', 'Modern Arts']}\n"
     ]
    }
   ],
   "source": [
    "student_name = '김민수 나영희 한철수 박명수 송지희'.split()\n",
    "student_id = [1010, 1011, 1012, 1013, 1014]\n",
    "student_major = ['ELLT', 'EICC', 'ELC', 'CS', 'Modern Arts']\n",
    "\n",
    "student_info = {student_id[idx]: [student_name[idx], student_major[idx]] for idx in range(len(student_id))}\n",
    "print(student_info)"
   ]
  },
  {
   "cell_type": "code",
   "execution_count": 4,
   "id": "c714854e",
   "metadata": {},
   "outputs": [],
   "source": [
    "student_info[1015] = ['이민우', 'Mathematics']"
   ]
  },
  {
   "cell_type": "code",
   "execution_count": 5,
   "id": "ce9499dd",
   "metadata": {},
   "outputs": [
    {
     "data": {
      "text/plain": [
       "['송지희', 'Modern Arts']"
      ]
     },
     "execution_count": 5,
     "metadata": {},
     "output_type": "execute_result"
    }
   ],
   "source": [
    "student_info[1014]"
   ]
  },
  {
   "cell_type": "code",
   "execution_count": 6,
   "id": "23c6cba8",
   "metadata": {},
   "outputs": [],
   "source": [
    "student_info[1014][1] = 'Science'"
   ]
  },
  {
   "cell_type": "code",
   "execution_count": 9,
   "id": "7236fed8",
   "metadata": {},
   "outputs": [
    {
     "data": {
      "text/plain": [
       "['송지희', 'Science']"
      ]
     },
     "execution_count": 9,
     "metadata": {},
     "output_type": "execute_result"
    }
   ],
   "source": [
    "student_info.get(1014)"
   ]
  },
  {
   "cell_type": "code",
   "execution_count": 10,
   "id": "68c0f2b6",
   "metadata": {},
   "outputs": [
    {
     "data": {
      "text/plain": [
       "dict_keys([1010, 1011, 1012, 1013, 1014, 1015])"
      ]
     },
     "execution_count": 10,
     "metadata": {},
     "output_type": "execute_result"
    }
   ],
   "source": [
    "student_info.keys()"
   ]
  },
  {
   "cell_type": "code",
   "execution_count": 11,
   "id": "2d43039e",
   "metadata": {},
   "outputs": [
    {
     "data": {
      "text/plain": [
       "dict_values([['김민수', 'ELLT'], ['나영희', 'EICC'], ['한철수', 'ELC'], ['박명수', 'CS'], ['송지희', 'Science'], ['이민우', 'Mathematics']])"
      ]
     },
     "execution_count": 11,
     "metadata": {},
     "output_type": "execute_result"
    }
   ],
   "source": [
    "student_info.values()"
   ]
  },
  {
   "cell_type": "code",
   "execution_count": 12,
   "id": "708b3ab0",
   "metadata": {},
   "outputs": [
    {
     "data": {
      "text/plain": [
       "dict_items([(1010, ['김민수', 'ELLT']), (1011, ['나영희', 'EICC']), (1012, ['한철수', 'ELC']), (1013, ['박명수', 'CS']), (1014, ['송지희', 'Science']), (1015, ['이민우', 'Mathematics'])])"
      ]
     },
     "execution_count": 12,
     "metadata": {},
     "output_type": "execute_result"
    }
   ],
   "source": [
    "student_info.items()"
   ]
  },
  {
   "cell_type": "code",
   "execution_count": 15,
   "id": "90531e56",
   "metadata": {},
   "outputs": [
    {
     "name": "stdout",
     "output_type": "stream",
     "text": [
      "1010 ELLT 김민수 과제 제출합니다.\n",
      "1011 EICC 나영희 과제 제출합니다.\n",
      "1012 ELC 한철수 과제 제출합니다.\n",
      "1013 CS 박명수 과제 제출합니다.\n",
      "1014 Science 송지희 과제 제출합니다.\n",
      "1015 Mathematics 이민우 과제 제출합니다.\n"
     ]
    }
   ],
   "source": [
    "for key, value in student_info.items():\n",
    "    st_id = key\n",
    "    st_name = value[0]\n",
    "    st_major = value[1]\n",
    "    print(f'{st_id} {st_major} {st_name} 과제 제출합니다.')"
   ]
  },
  {
   "cell_type": "code",
   "execution_count": 16,
   "id": "c2316c9a",
   "metadata": {},
   "outputs": [],
   "source": [
    "new_students = {2010: ['최민성', 'Korean']}\n",
    "student_info.update(new_students)"
   ]
  },
  {
   "cell_type": "code",
   "execution_count": 17,
   "id": "ef45071a",
   "metadata": {},
   "outputs": [
    {
     "data": {
      "text/plain": [
       "{2011: ['하유리', 'PE'],\n",
       " 1010: ['김민수', 'ELLT'],\n",
       " 1011: ['나영희', 'EICC'],\n",
       " 1012: ['한철수', 'ELC'],\n",
       " 1013: ['박명수', 'CS'],\n",
       " 1014: ['송지희', 'Science'],\n",
       " 1015: ['이민우', 'Mathematics'],\n",
       " 2010: ['최민성', 'Korean']}"
      ]
     },
     "execution_count": 17,
     "metadata": {},
     "output_type": "execute_result"
    }
   ],
   "source": [
    "new_students2 = {2011: ['하유리', 'PE']}\n",
    "{**new_students2, **student_info}"
   ]
  },
  {
   "cell_type": "code",
   "execution_count": 18,
   "id": "d78e410b",
   "metadata": {},
   "outputs": [],
   "source": [
    "del student_info[2010]"
   ]
  },
  {
   "cell_type": "code",
   "execution_count": 19,
   "id": "1b5c5bf5",
   "metadata": {},
   "outputs": [
    {
     "data": {
      "text/plain": [
       "['이민우', 'Mathematics']"
      ]
     },
     "execution_count": 19,
     "metadata": {},
     "output_type": "execute_result"
    }
   ],
   "source": [
    "student_info.pop(1015, 0)"
   ]
  },
  {
   "cell_type": "code",
   "execution_count": 20,
   "id": "b5f18955",
   "metadata": {},
   "outputs": [
    {
     "data": {
      "text/plain": [
       "0"
      ]
     },
     "execution_count": 20,
     "metadata": {},
     "output_type": "execute_result"
    }
   ],
   "source": [
    "student_info.pop(1016, 0)"
   ]
  },
  {
   "cell_type": "code",
   "execution_count": 21,
   "id": "f339c819",
   "metadata": {},
   "outputs": [],
   "source": [
    "student_info_back_up = student_info"
   ]
  },
  {
   "cell_type": "code",
   "execution_count": 22,
   "id": "f8cf726d",
   "metadata": {},
   "outputs": [
    {
     "data": {
      "text/plain": [
       "({1010: ['김민수', 'ELLT'],\n",
       "  1011: ['나영희', 'EICC'],\n",
       "  1012: ['한철수', 'ELC'],\n",
       "  1013: ['박명수', 'CS'],\n",
       "  1014: ['송지희', 'Science'],\n",
       "  1015: ['이민우', 'Mathematics']},\n",
       " {1010: ['김민수', 'ELLT'],\n",
       "  1011: ['나영희', 'EICC'],\n",
       "  1012: ['한철수', 'ELC'],\n",
       "  1013: ['박명수', 'CS'],\n",
       "  1014: ['송지희', 'Science'],\n",
       "  1015: ['이민우', 'Mathematics']})"
      ]
     },
     "execution_count": 22,
     "metadata": {},
     "output_type": "execute_result"
    }
   ],
   "source": [
    "student_info[1015] = ['이민우', 'Mathematics']\n",
    "student_info, student_info_back_up"
   ]
  },
  {
   "cell_type": "code",
   "execution_count": 23,
   "id": "2d4edbbf",
   "metadata": {},
   "outputs": [
    {
     "data": {
      "text/plain": [
       "({1010: ['김민수', 'ELLT'],\n",
       "  1011: ['나영희', 'EICC'],\n",
       "  1012: ['한철수', 'ELC'],\n",
       "  1013: ['박명수', 'CS'],\n",
       "  1014: ['송지희', 'Science'],\n",
       "  1015: ['이민우', 'Statistics']},\n",
       " {1010: ['김민수', 'ELLT'],\n",
       "  1011: ['나영희', 'EICC'],\n",
       "  1012: ['한철수', 'ELC'],\n",
       "  1013: ['박명수', 'CS'],\n",
       "  1014: ['송지희', 'Science'],\n",
       "  1015: ['이민우', 'Mathematics']})"
      ]
     },
     "execution_count": 23,
     "metadata": {},
     "output_type": "execute_result"
    }
   ],
   "source": [
    "import copy\n",
    "student_info_back_up2 = copy.deepcopy(student_info)\n",
    "student_info[1015][1] = 'Statistics'\n",
    "student_info, student_info_back_up2"
   ]
  },
  {
   "cell_type": "code",
   "execution_count": 24,
   "id": "1fe3a1c0",
   "metadata": {},
   "outputs": [],
   "source": [
    "student_info.clear()"
   ]
  },
  {
   "cell_type": "code",
   "execution_count": 27,
   "id": "0389b919",
   "metadata": {},
   "outputs": [
    {
     "data": {
      "text/plain": [
       "{4, 6}"
      ]
     },
     "execution_count": 27,
     "metadata": {},
     "output_type": "execute_result"
    }
   ],
   "source": [
    "a = {1, 2, 3}\n",
    "b = {2, 4, 6}\n",
    "\n",
    "# 교집합 intersection\n",
    "a.intersection(b) # a & b\n",
    "\n",
    "# 합집합 union\n",
    "a.union(b) # a | b\n",
    "\n",
    "# 차집합 difference\n",
    "a.difference(b) # a - b\n",
    "b.difference(a) # b - a"
   ]
  },
  {
   "cell_type": "code",
   "execution_count": null,
   "id": "df1bc5ce",
   "metadata": {},
   "outputs": [],
   "source": []
  }
 ],
 "metadata": {
  "kernelspec": {
   "display_name": "Python 3 (ipykernel)",
   "language": "python",
   "name": "python3"
  },
  "language_info": {
   "codemirror_mode": {
    "name": "ipython",
    "version": 3
   },
   "file_extension": ".py",
   "mimetype": "text/x-python",
   "name": "python",
   "nbconvert_exporter": "python",
   "pygments_lexer": "ipython3",
   "version": "3.9.7"
  }
 },
 "nbformat": 4,
 "nbformat_minor": 5
}
