{
 "cells": [
  {
   "cell_type": "markdown",
   "id": "94ff4881",
   "metadata": {},
   "source": [
    "### 상속 | inheritance\n",
    "- 이전 클래스의 내용을 추가, 변경해야 할 경우(다 가져가고 약간 수정하거나 변경하기)\n",
    "- 부모의 모든 것을 내가 받아오겠다. 코드 재사용 시 유용함\n",
    "- 너무 부모와 엮여있어서 독립적이지 못한 코드는 피해야함. \n",
    "- 상속은 굉장히 유의해야 할 개념이다. \n",
    "- 기준이 되는 클래스 / 상속받는 클래스 두개로 존재함\n",
    "    - 기준 클래스: vehicle, parent, super, base, 부모 클래스\n",
    "    - 상속 받는 클래스: child, sub, derived, 자식 클래스\n",
    "    - Vehicle <- Car\n",
    "\n",
    "- 부모 클래스를 자식 클래스가 구체화 시킨다\n",
    "- is-a: Car is a vehicle\n",
    "    - 굉장히 얽혀 있기 때문에 하나 건드리다가 다 바꿔야하기 때문에 유의\n",
    "- has-a : Notebook has a Note\n",
    "    - 굉장히 독립적인 장점|"
   ]
  },
  {
   "cell_type": "code",
   "execution_count": 2,
   "id": "bcb49de4",
   "metadata": {},
   "outputs": [],
   "source": [
    "class AirPlane:\n",
    "    def __init__(self, code, speed):\n",
    "        self.code = code\n",
    "        self.speed = speed\n",
    "        \n",
    "    def fly(self):\n",
    "        print(f'{self.code}이 {self.speed}의 속력으로 날아갑니다.')"
   ]
  },
  {
   "cell_type": "code",
   "execution_count": 9,
   "id": "e6fa3a43",
   "metadata": {},
   "outputs": [],
   "source": [
    "#자식 클래스\n",
    "#class 이름(부모 클래스 이름) ->  상속받기\n",
    "class Boeing(AirPlane):\n",
    "    pass"
   ]
  },
  {
   "cell_type": "code",
   "execution_count": 10,
   "id": "d9fbc4a2",
   "metadata": {},
   "outputs": [
    {
     "name": "stdout",
     "output_type": "stream",
     "text": [
      "A199이 300km/h의 속력으로 날아갑니다.\n"
     ]
    }
   ],
   "source": [
    "my_plane = Boeing('A199', '300km/h')\n",
    "my_plane.fly()"
   ]
  },
  {
   "cell_type": "code",
   "execution_count": 11,
   "id": "46435d54",
   "metadata": {},
   "outputs": [],
   "source": [
    "class Boeing(AirPlane):\n",
    "    def __init__(self, code, speed, destination):\n",
    "        # 부모에게서 가져오기. 설정 시 특별하지 않다면 부모 것을 받아오는 경우가 많다. \n",
    "        # 부모에게서 모든 걸 받아올 필요가 없다\n",
    "        # 인자가 다섯개 면 세개만 받아오고 여기서 더 해결해도 됨. \n",
    "        super().__init__(code, speed) # 선택적 인수 설정하기\n",
    "        self.destination = destination #추가한 변수\n",
    "        \n",
    "    def fly(self):\n",
    "        print(f'{self.code}이 {self.destination}으로 {self.speed}의 속력으로 날아갑니다.')"
   ]
  },
  {
   "cell_type": "code",
   "execution_count": 12,
   "id": "0042fc7b",
   "metadata": {},
   "outputs": [
    {
     "name": "stdout",
     "output_type": "stream",
     "text": [
      "B255이 Tokyo으로 400km/h의 속력으로 날아갑니다.\n"
     ]
    }
   ],
   "source": [
    "my_plane_2 = Boeing('B255', '400km/h', 'Tokyo')\n",
    "my_plane_2.fly()"
   ]
  },
  {
   "cell_type": "code",
   "execution_count": 13,
   "id": "2d4ed0aa",
   "metadata": {},
   "outputs": [
    {
     "data": {
      "text/plain": [
       "'400km/h'"
      ]
     },
     "execution_count": 13,
     "metadata": {},
     "output_type": "execute_result"
    }
   ],
   "source": [
    "my_plane_2.speed"
   ]
  },
  {
   "cell_type": "code",
   "execution_count": 14,
   "id": "8643368b",
   "metadata": {},
   "outputs": [],
   "source": [
    "class AirJet(AirPlane):\n",
    "    def __init__(self, code, speed, pilot_name):\n",
    "        super().__init__(code, speed)\n",
    "        self.pilot = pilot_name\n",
    "        \n",
    "    def fly(self): # fly 재정의. override\n",
    "        super().fly()\n",
    "        print(f'{self.pilot}이 운행하는 비행기입니다.')\n",
    "        \n",
    "    def shoot(self): # 부모 클래스에 없는 메소드\n",
    "        print(f'{self.pilot}이 미사일을 쏩니다.')"
   ]
  },
  {
   "cell_type": "code",
   "execution_count": 15,
   "id": "a446c6b4",
   "metadata": {},
   "outputs": [],
   "source": [
    "my_jet = AirJet('Z98', '700km/h', 'song')"
   ]
  },
  {
   "cell_type": "code",
   "execution_count": 16,
   "id": "21f737b3",
   "metadata": {},
   "outputs": [
    {
     "name": "stdout",
     "output_type": "stream",
     "text": [
      "Z98이 700km/h의 속력으로 날아갑니다.\n",
      "song이 운행하는 비행기입니다.\n"
     ]
    }
   ],
   "source": [
    "my_jet.fly()"
   ]
  },
  {
   "cell_type": "code",
   "execution_count": 17,
   "id": "f01b43c9",
   "metadata": {},
   "outputs": [
    {
     "name": "stdout",
     "output_type": "stream",
     "text": [
      "song이 미사일을 쏩니다.\n"
     ]
    }
   ],
   "source": [
    "my_jet.shoot()"
   ]
  },
  {
   "cell_type": "code",
   "execution_count": 19,
   "id": "120af1d6",
   "metadata": {},
   "outputs": [],
   "source": [
    "class Degree:\n",
    "    def __init__(self, input_name):\n",
    "        self.name = input_name\n",
    "        \n",
    "class Master(Degree):\n",
    "    def __init__(self, name):\n",
    "        super().__init__(f'Master {name}')\n",
    "        \n",
    "class Doctor(Degree):\n",
    "    def __init__(self, name):\n",
    "        super().__init__(f'PhD. {name}')"
   ]
  },
  {
   "cell_type": "code",
   "execution_count": 21,
   "id": "8ea142ea",
   "metadata": {},
   "outputs": [],
   "source": [
    "song = Degree('song')\n",
    "jong = Master('jong')\n",
    "been = Doctor('been')"
   ]
  },
  {
   "cell_type": "code",
   "execution_count": 22,
   "id": "0d3d86ef",
   "metadata": {},
   "outputs": [
    {
     "data": {
      "text/plain": [
       "'song'"
      ]
     },
     "execution_count": 22,
     "metadata": {},
     "output_type": "execute_result"
    }
   ],
   "source": [
    "song.name"
   ]
  },
  {
   "cell_type": "code",
   "execution_count": 23,
   "id": "bcba8b2b",
   "metadata": {},
   "outputs": [
    {
     "data": {
      "text/plain": [
       "'Master jong'"
      ]
     },
     "execution_count": 23,
     "metadata": {},
     "output_type": "execute_result"
    }
   ],
   "source": [
    "jong.name"
   ]
  },
  {
   "cell_type": "code",
   "execution_count": 24,
   "id": "5b2ca0bc",
   "metadata": {},
   "outputs": [
    {
     "data": {
      "text/plain": [
       "'PhD. been'"
      ]
     },
     "execution_count": 24,
     "metadata": {},
     "output_type": "execute_result"
    }
   ],
   "source": [
    "been.name"
   ]
  },
  {
   "cell_type": "markdown",
   "id": "20e3f7d7",
   "metadata": {},
   "source": [
    "### 다중 상속\n",
    "- method resolution order (MRO)\n",
    "- \n",
    "Animal <- Horse\n",
    "       <- Donkey\n",
    "           <- Mule (donkey > horse)\n",
    "           <- Hinny (horse > donkey)"
   ]
  },
  {
   "cell_type": "code",
   "execution_count": 32,
   "id": "a3181b58",
   "metadata": {},
   "outputs": [],
   "source": [
    "class HUFS:\n",
    "    def major(self, major):\n",
    "        return f'{major} in HUFS'\n",
    "    \n",
    "#------------------------------------child\n",
    "class SeoulCampus(HUFS):\n",
    "    def major(self, major):\n",
    "        return f'{major} in Seoul Campus'\n",
    "    \n",
    "class GlobalCampus(HUFS):\n",
    "    def major(self, major):\n",
    "        return f'{major} in Global Campus'\n",
    "    \n",
    "#------------------------------------grandchild (실제 존재하는 용어는 x)\n",
    "class ElltCsStudent(SeoulCampus, GlobalCampus):\n",
    "    pass\n",
    "\n",
    "class CsElltStudent(GlobalCampus, SeoulCampus):\n",
    "    pass"
   ]
  },
  {
   "cell_type": "code",
   "execution_count": 33,
   "id": "c49a56d3",
   "metadata": {},
   "outputs": [
    {
     "data": {
      "text/plain": [
       "'ellt in Seoul Campus'"
      ]
     },
     "execution_count": 33,
     "metadata": {},
     "output_type": "execute_result"
    }
   ],
   "source": [
    "ElltCsStudent().major('ellt')"
   ]
  },
  {
   "cell_type": "code",
   "execution_count": 34,
   "id": "ba2c118c",
   "metadata": {},
   "outputs": [
    {
     "data": {
      "text/plain": [
       "'computer science in Global Campus'"
      ]
     },
     "execution_count": 34,
     "metadata": {},
     "output_type": "execute_result"
    }
   ],
   "source": [
    "CsElltStudent().major('computer science')"
   ]
  },
  {
   "cell_type": "code",
   "execution_count": 35,
   "id": "a52c3293",
   "metadata": {},
   "outputs": [
    {
     "data": {
      "text/plain": [
       "[__main__.CsElltStudent,\n",
       " __main__.GlobalCampus,\n",
       " __main__.SeoulCampus,\n",
       " __main__.HUFS,\n",
       " object]"
      ]
     },
     "execution_count": 35,
     "metadata": {},
     "output_type": "execute_result"
    }
   ],
   "source": [
    "CsElltStudent.mro()"
   ]
  },
  {
   "cell_type": "markdown",
   "id": "0049a75a",
   "metadata": {},
   "source": [
    "## 다형성, duck typing"
   ]
  },
  {
   "cell_type": "code",
   "execution_count": 36,
   "id": "8f700e7c",
   "metadata": {},
   "outputs": [
    {
     "name": "stdout",
     "output_type": "stream",
     "text": [
      "english in HUFS\n",
      "english in Seoul Campus\n",
      "english in Global Campus\n"
     ]
    }
   ],
   "source": [
    "for student in [HUFS(), SeoulCampus(), GlobalCampus()]:\n",
    "    print(student.major('english'))"
   ]
  },
  {
   "cell_type": "markdown",
   "id": "c18e22f0",
   "metadata": {},
   "source": [
    "### 메서드\n",
    "- 인스턴스 메서드:\n",
    "    - 지금까지 배운 메서드\n",
    "    - 붕어빵: 팥, 크림\n",
    "    - 첫 번째 인수가 self인 메서드\n",
    "    - 객체를 생성하고 사용가능\n",
    "- 클래스 메서드:\n",
    "    - 인스턴스랑 상관없음\n",
    "    - 붕어빵: 밀가루 반죽 자체\n",
    "    - 객체마다 달라지지 않음\n",
    "    - 모든 객체가 공유하는 (클래스) 변수, 메서드\n",
    "    - cls\n",
    "    - 데코레이터 @classmethod 사용한다.\n",
    "    - 객체 생성하지 않고 메서드에 접근 가능하다\n",
    "- 정적 메서드\n",
    "    - 1번째 변수가 self 아님\n",
    "    - 클래스나 인스턴스에 접근하지 않는 메서드\n",
    "    - 비슷한 유틸리티라서 클래스 내에 묶어둘 때 사용한다.\n",
    "    - 객체 생성하지 않고 메서드에 접근 가능하다.\n",
    "- 추상 메서드\n",
    "    - abstract method\n",
    "    - 일종의 blueprint"
   ]
  },
  {
   "cell_type": "code",
   "execution_count": 37,
   "id": "97157c5b",
   "metadata": {},
   "outputs": [],
   "source": [
    "class Phone:\n",
    "    nvm = 0\n",
    "    def __init__(self):\n",
    "        Phone.nvm += 1\n",
    "        \n",
    "    @classmethod\n",
    "    def count(cls):\n",
    "        print(cls.nvm)"
   ]
  },
  {
   "cell_type": "code",
   "execution_count": 46,
   "id": "37876d12",
   "metadata": {},
   "outputs": [],
   "source": [
    "class Bus:\n",
    "    def __init__(self, number, station):\n",
    "        self.number = number\n",
    "        self.station = station\n",
    "        \n",
    "    @classmethod\n",
    "    def tuple_object(cls, args):\n",
    "        # 튜플로 인자를 받아서 객체 생성하는 메서드 만들기\n",
    "        return cls(args[0], args[1])\n",
    "    \n",
    "number = '1150'\n",
    "station = 'gangnam station'\n",
    "\n",
    "bus = Bus(number, station)\n",
    "\n",
    "info = number, station\n",
    "bus = Bus.tuple_object(info) # 객체를 생성하지 않고 메서드에 접근하였음 why? 그 자체가 클래스 메서드이기 때문"
   ]
  },
  {
   "cell_type": "code",
   "execution_count": 47,
   "id": "a8f355c8",
   "metadata": {},
   "outputs": [
    {
     "data": {
      "text/plain": [
       "'1150'"
      ]
     },
     "execution_count": 47,
     "metadata": {},
     "output_type": "execute_result"
    }
   ],
   "source": [
    "bus.number"
   ]
  },
  {
   "cell_type": "code",
   "execution_count": 48,
   "id": "89cf1c69",
   "metadata": {},
   "outputs": [
    {
     "data": {
      "text/plain": [
       "'gangnam station'"
      ]
     },
     "execution_count": 48,
     "metadata": {},
     "output_type": "execute_result"
    }
   ],
   "source": [
    "bus.station"
   ]
  },
  {
   "cell_type": "code",
   "execution_count": 52,
   "id": "e807b7ea",
   "metadata": {},
   "outputs": [
    {
     "data": {
      "text/plain": [
       "'hi, i will be teaching advanced python programming'"
      ]
     },
     "execution_count": 52,
     "metadata": {},
     "output_type": "execute_result"
    }
   ],
   "source": [
    "class Professor:\n",
    "    \n",
    "    @staticmethod\n",
    "    def do_orientation(course): # self를 쓰지 않았음\n",
    "        return f'hi, i will be teaching {course}'\n",
    "\n",
    "Professor.do_orientation('advanced python programming')"
   ]
  },
  {
   "cell_type": "code",
   "execution_count": 54,
   "id": "12aaa92b",
   "metadata": {},
   "outputs": [],
   "source": [
    "# 가독성과 협업성에서 차이가 있음.\n",
    "\n",
    "from abc import *\n",
    "\n",
    "class Teacher(metaclass=ABCMeta): # 추상 클래스 blueprint같은거\n",
    "    # 변수가 뭐가 있는지 정의하기\n",
    "    name = '이름'\n",
    "    \n",
    "    # 자식 클래스가 오버라이드해야하는 메서드 정의, 구체화하지 않고 대부분 pass\n",
    "    @abstractmethod\n",
    "    def teach(self):\n",
    "        pass\n",
    "    \n",
    "    def make_test(self):\n",
    "        pass"
   ]
  },
  {
   "cell_type": "code",
   "execution_count": 55,
   "id": "a1e6b269",
   "metadata": {},
   "outputs": [],
   "source": [
    "class MyTeacher(Teacher):\n",
    "    def teach(self):\n",
    "        print('You have to know ~~~')"
   ]
  },
  {
   "cell_type": "code",
   "execution_count": 56,
   "id": "7890c4f0",
   "metadata": {},
   "outputs": [
    {
     "data": {
      "text/plain": [
       "<__main__.MyTeacher at 0x25a041eebb0>"
      ]
     },
     "execution_count": 56,
     "metadata": {},
     "output_type": "execute_result"
    }
   ],
   "source": [
    "MyTeacher()"
   ]
  },
  {
   "cell_type": "markdown",
   "id": "fe4c6174",
   "metadata": {},
   "source": [
    "### 매직매서드\n",
    "- __init__ : special method\n",
    "\n",
    "- object 클래스를 재정의\n",
    "- __str__\n",
    "- __repr__"
   ]
  },
  {
   "cell_type": "code",
   "execution_count": 57,
   "id": "32974338",
   "metadata": {},
   "outputs": [],
   "source": [
    "class Politician(object):\n",
    "    def __init__(self, name):\n",
    "        self.name = name\n",
    "        \n",
    "    def __str__(self):\n",
    "        # 인스턴스를 스트링으로 출력: 이름, 메모리 주소\n",
    "        # 재정의를 안하면 원래 설정되어있는 값이 나오는 것 (원래 모든 클래스는 object가 부모)\n",
    "        return self.name\n",
    "    \n",
    "    def __repr__(self):\n",
    "        # 사용자가 이해할 수 있게 객체를 출력하고 싶을때 사용한다.\n",
    "        return f'Politician({self.name})'"
   ]
  },
  {
   "cell_type": "code",
   "execution_count": 63,
   "id": "550a12c2",
   "metadata": {},
   "outputs": [],
   "source": [
    "p = Politician('park')"
   ]
  },
  {
   "cell_type": "code",
   "execution_count": 64,
   "id": "2b000830",
   "metadata": {},
   "outputs": [
    {
     "name": "stdout",
     "output_type": "stream",
     "text": [
      "park\n"
     ]
    }
   ],
   "source": [
    "print(p)"
   ]
  },
  {
   "cell_type": "code",
   "execution_count": 65,
   "id": "a0707934",
   "metadata": {},
   "outputs": [
    {
     "data": {
      "text/plain": [
       "Politician(park)"
      ]
     },
     "execution_count": 65,
     "metadata": {},
     "output_type": "execute_result"
    }
   ],
   "source": [
    "p"
   ]
  },
  {
   "cell_type": "code",
   "execution_count": 66,
   "id": "717faf16",
   "metadata": {},
   "outputs": [
    {
     "data": {
      "text/plain": [
       "'park'"
      ]
     },
     "execution_count": 66,
     "metadata": {},
     "output_type": "execute_result"
    }
   ],
   "source": [
    "str(p)"
   ]
  },
  {
   "cell_type": "code",
   "execution_count": 67,
   "id": "5f7184b9",
   "metadata": {},
   "outputs": [
    {
     "data": {
      "text/plain": [
       "'Politician(park)'"
      ]
     },
     "execution_count": 67,
     "metadata": {},
     "output_type": "execute_result"
    }
   ],
   "source": [
    "repr(p)"
   ]
  },
  {
   "cell_type": "markdown",
   "id": "7e0d18e7",
   "metadata": {},
   "source": [
    "### namedtuple, dataclass\n",
    "- 변수만 있는 클래스 설정할 때 더 효율적으로 사용하는 수단\n",
    "- 딕셔너리 키와 같은 기능\n",
    "- 불변 객체\n",
    "- 딕셔너리보다 효율적이고 아니고는 없지만, 딕셔너리는 기능은 많고 보기에는 dataclass가 좋고"
   ]
  },
  {
   "cell_type": "code",
   "execution_count": 68,
   "id": "a807ab01",
   "metadata": {},
   "outputs": [],
   "source": [
    "from collections import namedtuple\n",
    "\n",
    "Student = namedtuple('Student', 'name grade') # 클래스 이름, 필요한 변수들 (공백으로 구분)\n",
    "song = Student('song', 3)"
   ]
  },
  {
   "cell_type": "code",
   "execution_count": 69,
   "id": "979c889c",
   "metadata": {},
   "outputs": [
    {
     "data": {
      "text/plain": [
       "'song'"
      ]
     },
     "execution_count": 69,
     "metadata": {},
     "output_type": "execute_result"
    }
   ],
   "source": [
    "song.name"
   ]
  },
  {
   "cell_type": "code",
   "execution_count": 70,
   "id": "3d90b7f0",
   "metadata": {},
   "outputs": [
    {
     "data": {
      "text/plain": [
       "3"
      ]
     },
     "execution_count": 70,
     "metadata": {},
     "output_type": "execute_result"
    }
   ],
   "source": [
    "song.grade"
   ]
  },
  {
   "cell_type": "code",
   "execution_count": 72,
   "id": "aa4f8b86",
   "metadata": {},
   "outputs": [
    {
     "data": {
      "text/plain": [
       "Student(name='jong', grade=3)"
      ]
     },
     "execution_count": 72,
     "metadata": {},
     "output_type": "execute_result"
    }
   ],
   "source": [
    "song._replace(name = 'jong') # 이런 객체를 새로 만드는 개념"
   ]
  },
  {
   "cell_type": "code",
   "execution_count": 73,
   "id": "90c69082",
   "metadata": {},
   "outputs": [],
   "source": [
    "from dataclasses import dataclass\n",
    "\n",
    "@dataclass # 데코레이터 사용\n",
    "class Student:\n",
    "    name: str\n",
    "    grade: int"
   ]
  },
  {
   "cell_type": "code",
   "execution_count": 74,
   "id": "9ab1090d",
   "metadata": {},
   "outputs": [],
   "source": [
    "song = Student('song', 3)"
   ]
  },
  {
   "cell_type": "code",
   "execution_count": 75,
   "id": "5beeab38",
   "metadata": {},
   "outputs": [
    {
     "data": {
      "text/plain": [
       "3"
      ]
     },
     "execution_count": 75,
     "metadata": {},
     "output_type": "execute_result"
    }
   ],
   "source": [
    "song.grade"
   ]
  },
  {
   "cell_type": "code",
   "execution_count": 76,
   "id": "d96f7a4b",
   "metadata": {},
   "outputs": [],
   "source": [
    "song.grade -= 1"
   ]
  },
  {
   "cell_type": "code",
   "execution_count": 77,
   "id": "c244cb32",
   "metadata": {},
   "outputs": [
    {
     "data": {
      "text/plain": [
       "2"
      ]
     },
     "execution_count": 77,
     "metadata": {},
     "output_type": "execute_result"
    }
   ],
   "source": [
    "song.grade"
   ]
  },
  {
   "cell_type": "code",
   "execution_count": null,
   "id": "c880aa51",
   "metadata": {},
   "outputs": [],
   "source": []
  }
 ],
 "metadata": {
  "kernelspec": {
   "display_name": "Python 3 (ipykernel)",
   "language": "python",
   "name": "python3"
  },
  "language_info": {
   "codemirror_mode": {
    "name": "ipython",
    "version": 3
   },
   "file_extension": ".py",
   "mimetype": "text/x-python",
   "name": "python",
   "nbconvert_exporter": "python",
   "pygments_lexer": "ipython3",
   "version": "3.9.7"
  }
 },
 "nbformat": 4,
 "nbformat_minor": 5
}
