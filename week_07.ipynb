{
 "cells": [
  {
   "cell_type": "markdown",
   "id": "100ba5c2",
   "metadata": {},
   "source": [
    "# 7주차 수업 내용 '함수' 실습 및 개념 정리\n",
    "- 시험 주(28일)에 복습파일 업로드를 안한다고 한 것을 잘못 이해(21일)해서 지금 제출합니다. 죄송합니다."
   ]
  },
  {
   "cell_type": "code",
   "execution_count": 9,
   "id": "12d47ff8",
   "metadata": {},
   "outputs": [],
   "source": [
    "# 함수 실습\n",
    "\n",
    "def print_birthday(name): # positional argument\n",
    "    '''\n",
    "    return 값이 없는 함수\n",
    "    함수 명은 스네이크표기법; 언더바(_)를 사용한 동사 + 명사의 형태, 소문자 사용, calc 등의 보편적 줄임말이 아니라면 줄임말 사용하지 말것, 다른 사람이 쉽게 이해할 수 있어야함\n",
    "    카멜표기법(lookLikeThis): 첫글자는 소문자, 이어지는 단어는 대문자로 시작. 이거는 java에서 주로 사용. 지양할것.\n",
    "    지금 쓰고 있는 이 블럭(doc string)은 원래는 '함수'에 대한 설명이 들어가는 곳 : 매개변수에 대한 설명, 타입, 함수의 의도\n",
    "    함수를 이렇게 정의하면 메모리에 업로드만 되고 실행은 되지 않음. 함수를 호출해야 실행됨.\n",
    "    값을 넘기는 방식: 참조에 의한 호출 (call by reference)\n",
    "    메모리 주소 복사됨. 가변객체가 매개변수로 들어가면 달라질 수 있으니 조심\n",
    "    '''\n",
    "    print(birthday[name])"
   ]
  },
  {
   "cell_type": "code",
   "execution_count": 10,
   "id": "32ce7550",
   "metadata": {},
   "outputs": [],
   "source": [
    "def input_birthday(): # 매개변수가 없는 함수\n",
    "    '''\n",
    "    사람들의 이름과 생일을 입력받아 딕셔너리로 반환\n",
    "    '''\n",
    "    birthday_dict = {} # 여기서의 birthday_dict는 지역변수\n",
    "    while True:\n",
    "        answer = input('please input name, birthday (or press q to exit): ')\n",
    "        if answer == 'q':\n",
    "            break\n",
    "        else:\n",
    "            try:\n",
    "                name, birthday = answer.split(',')\n",
    "                birthday_dict[name] = birthday\n",
    "            except:\n",
    "                print('please input your answer in this format: [name], [birthday]')\n",
    "    return birthday_dict # return 값이 있음"
   ]
  },
  {
   "cell_type": "code",
   "execution_count": 11,
   "id": "af2b33bb",
   "metadata": {},
   "outputs": [],
   "source": [
    "def get_city(name, city='Seoul'): # default값으로 Seoul이 있음. 따로 city값이 안 들어오면 Seoul로 들어감\n",
    "    '''\n",
    "    이름과 그 사람이 태어난 도시를 입력받아 딕셔너리로 반환.\n",
    "    '''\n",
    "    global city_dict # 전역변수로 만들어줌\n",
    "    city_dict[name] = city # return 해줄 필요가 없음"
   ]
  },
  {
   "cell_type": "code",
   "execution_count": 12,
   "id": "83a9ae14",
   "metadata": {},
   "outputs": [
    {
     "name": "stdout",
     "output_type": "stream",
     "text": [
      "please input name, birthday (or press q to exit): Song, 20200821\n",
      "please input name, birthday (or press q to exit): q\n",
      " 20200821\n",
      "{'Song': 'New York', 'Max': 'Seoul'}\n",
      "Help on function get_city in module __main__:\n",
      "\n",
      "get_city(name, city='Seoul')\n",
      "    이름과 그 사람이 태어난 도시를 입력받아 딕셔너리로 반환.\n",
      "\n"
     ]
    }
   ],
   "source": [
    "city_dict = {}\n",
    "birthday = input_birthday() # 함수 호출\n",
    "print_birthday('Song') # 요기에 들어가는건 인수 (함수를 정의할때는 매개변수). 인수에 할당된 값이 매개변수에 복제됨, 요거는 위치인수활용\n",
    "get_city(name='Song', city='New York') # 키워드 인수 활용\n",
    "get_city('Max') # 디폴트 인수 활용 (city는 default값인 Seoul을 갖게 됨)\n",
    "print(city_dict)\n",
    "help(get_city) # get_city 함수의 doc string 출력\n",
    "info_get_city = get_city.__doc__ # get_city 함수의 doc string 변수에 저장 (문자열로 반환)"
   ]
  },
  {
   "cell_type": "code",
   "execution_count": null,
   "id": "e81bb52b",
   "metadata": {},
   "outputs": [],
   "source": []
  }
 ],
 "metadata": {
  "kernelspec": {
   "display_name": "Python 3 (ipykernel)",
   "language": "python",
   "name": "python3"
  },
  "language_info": {
   "codemirror_mode": {
    "name": "ipython",
    "version": 3
   },
   "file_extension": ".py",
   "mimetype": "text/x-python",
   "name": "python",
   "nbconvert_exporter": "python",
   "pygments_lexer": "ipython3",
   "version": "3.9.7"
  }
 },
 "nbformat": 4,
 "nbformat_minor": 5
}
