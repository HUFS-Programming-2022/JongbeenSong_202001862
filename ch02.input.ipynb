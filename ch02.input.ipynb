{
 "cells": [
  {
   "cell_type": "markdown",
   "id": "b860898a",
   "metadata": {},
   "source": [
    "## input()\n",
    "- console에서 사용자에게 값을 입력받는 함수\n",
    "- 입출력 관련된 함수\n",
    "- 입력받는 값의 type은 문자열(str)\n",
    "- 입력받은 값을 변수에 담아서 사용함."
   ]
  },
  {
   "cell_type": "code",
   "execution_count": 1,
   "id": "9e0fbd9e",
   "metadata": {},
   "outputs": [
    {
     "name": "stdout",
     "output_type": "stream",
     "text": [
      "What's your name?Kim\n"
     ]
    },
    {
     "data": {
      "text/plain": [
       "'Kim'"
      ]
     },
     "execution_count": 1,
     "metadata": {},
     "output_type": "execute_result"
    }
   ],
   "source": [
    "input('What\\'s your name?')"
   ]
  },
  {
   "cell_type": "code",
   "execution_count": 2,
   "id": "a6f52853",
   "metadata": {},
   "outputs": [
    {
     "name": "stdout",
     "output_type": "stream",
     "text": [
      "What's your name?Lee\n"
     ]
    }
   ],
   "source": [
    "#1.\n",
    "name = input('What\\'s your name?')"
   ]
  },
  {
   "cell_type": "code",
   "execution_count": 3,
   "id": "0f7b2eab",
   "metadata": {},
   "outputs": [
    {
     "data": {
      "text/plain": [
       "'Lee'"
      ]
     },
     "execution_count": 3,
     "metadata": {},
     "output_type": "execute_result"
    }
   ],
   "source": [
    "name"
   ]
  },
  {
   "cell_type": "code",
   "execution_count": 8,
   "id": "69cc64e0",
   "metadata": {},
   "outputs": [
    {
     "name": "stdout",
     "output_type": "stream",
     "text": [
      "What's your name?\n",
      "Wang\n"
     ]
    }
   ],
   "source": [
    "#2.\n",
    "print('What\\'s your name?')\n",
    "name = input()"
   ]
  },
  {
   "cell_type": "code",
   "execution_count": 5,
   "id": "c6b73da5",
   "metadata": {},
   "outputs": [
    {
     "name": "stdout",
     "output_type": "stream",
     "text": [
      "Wang\n"
     ]
    }
   ],
   "source": [
    "print(name)"
   ]
  },
  {
   "cell_type": "code",
   "execution_count": 6,
   "id": "2aade369",
   "metadata": {},
   "outputs": [
    {
     "name": "stdout",
     "output_type": "stream",
     "text": [
      "how old are you?19\n"
     ]
    }
   ],
   "source": [
    "age = input('how old are you?')"
   ]
  },
  {
   "cell_type": "code",
   "execution_count": 7,
   "id": "7a9cd427",
   "metadata": {},
   "outputs": [
    {
     "data": {
      "text/plain": [
       "str"
      ]
     },
     "execution_count": 7,
     "metadata": {},
     "output_type": "execute_result"
    }
   ],
   "source": [
    "type(age)"
   ]
  },
  {
   "cell_type": "markdown",
   "id": "0b02d190",
   "metadata": {},
   "source": [
    "input을 str이 아닌 다른 타입으로 사용하고 싶을 때에는 형 변환을 미리 해준다."
   ]
  },
  {
   "cell_type": "code",
   "execution_count": 9,
   "id": "6da39f88",
   "metadata": {},
   "outputs": [
    {
     "name": "stdout",
     "output_type": "stream",
     "text": [
      "how old are you?20\n"
     ]
    }
   ],
   "source": [
    "age = int(input('how old are you?'))"
   ]
  },
  {
   "cell_type": "code",
   "execution_count": 15,
   "id": "d9b01161",
   "metadata": {},
   "outputs": [
    {
     "name": "stdout",
     "output_type": "stream",
     "text": [
      "당신이 태어난 해는 2003 입니다.\n"
     ]
    }
   ],
   "source": [
    "print('당신이 태어난 해는', 2022 - age + 1, '입니다.') # 연산 가능해짐"
   ]
  },
  {
   "cell_type": "code",
   "execution_count": 16,
   "id": "9a52102f",
   "metadata": {},
   "outputs": [
    {
     "name": "stdout",
     "output_type": "stream",
     "text": [
      "당신이 태어난 해는 2003입니다.\n"
     ]
    }
   ],
   "source": [
    "print(f'당신이 태어난 해는 {2022 - age + 1}입니다.') # print(f'{<variable>}')"
   ]
  },
  {
   "cell_type": "markdown",
   "id": "5119fc8d",
   "metadata": {},
   "source": [
    "### Quiz 1\n",
    "- 택배 정보를 입력받고 무게에 따른 값 산정하기\n",
    "    - 수취인 성명:\n",
    "    - 수취인 주소:\n",
    "    - 배송비 : 3000원\n",
    "    - 물건 비용: <계산된 값>원\n",
    "    - 총 합계: <계산된 값>원\n",
    "- 물건 비용은 무게(g) * 5\n",
    "- 입력값 = 이름, 주소, 무게"
   ]
  },
  {
   "cell_type": "code",
   "execution_count": 22,
   "id": "3ce0e6ae",
   "metadata": {},
   "outputs": [
    {
     "name": "stdout",
     "output_type": "stream",
     "text": [
      "input the name of recipient: 송종빈\n",
      "input the address of recipient: 서울시\n",
      "input the weight(g) of recipient: 500\n",
      "\n",
      "수취인 성명: 송종빈\n",
      "수취인 주소: 서울시\n",
      "배송비: 3000원\n",
      "물건 비용: 2500원\n",
      "총 합계: 5500원\n"
     ]
    }
   ],
   "source": [
    "name = input('input the name of recipient: ')\n",
    "address = input('input the address of recipient: ')\n",
    "weight = int(input('input the weight(g) of recipient: '))\n",
    "\n",
    "shipping_fee = 3000\n",
    "product_cost = weight * 5\n",
    "\n",
    "print()\n",
    "\n",
    "print(f'수취인 성명: {name}')\n",
    "print(f'수취인 주소: {address}')\n",
    "print(f'배송비: {shipping_fee}원')\n",
    "print(f'물건 비용: {product_cost}원')\n",
    "print(f'총 합계: {shipping_fee + product_cost}원')\n"
   ]
  },
  {
   "cell_type": "code",
   "execution_count": null,
   "id": "3100e1b3",
   "metadata": {},
   "outputs": [],
   "source": []
  }
 ],
 "metadata": {
  "kernelspec": {
   "display_name": "Python 3 (ipykernel)",
   "language": "python",
   "name": "python3"
  },
  "language_info": {
   "codemirror_mode": {
    "name": "ipython",
    "version": 3
   },
   "file_extension": ".py",
   "mimetype": "text/x-python",
   "name": "python",
   "nbconvert_exporter": "python",
   "pygments_lexer": "ipython3",
   "version": "3.9.7"
  }
 },
 "nbformat": 4,
 "nbformat_minor": 5
}
