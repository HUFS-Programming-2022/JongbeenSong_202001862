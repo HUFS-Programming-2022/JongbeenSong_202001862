{
 "cells": [
  {
   "cell_type": "markdown",
   "id": "16a612f4",
   "metadata": {},
   "source": [
    "## 반복문\n",
    "\n",
    "- 자료구조를 순회할 때 사용\n",
    "- 정해진 동작의 반복\n",
    "\n",
    "### while\n",
    "\n",
    "- 특정 조건이 만족될때까지 블록 반복 수행\n",
    "- for + if\n",
    "- 해당 조건이 언제 거짓이 되는지 알아야만 함\n",
    "\n",
    "#### while vs for\n",
    "\n",
    "- for: 반복횟수를 정확히 알고, 반복횟수가 변하지 않을때\n",
    "- while: 반복횟수가 정확하지 않고, 특정 조건을 만족시키면 종료하고 싶을때\n",
    "\n",
    "### 반복문의 제어\n",
    "\n",
    "- 의도치 않은 코드 종료를 막기 위해 되도록 사용하지 않는다\n",
    "    - break\n",
    "    - else\n",
    "    - continue"
   ]
  },
  {
   "cell_type": "code",
   "execution_count": 11,
   "id": "da9a13ca",
   "metadata": {},
   "outputs": [
    {
     "name": "stdout",
     "output_type": "stream",
     "text": [
      "선택지 목록\n",
      "====================\n",
      "1. n단\n",
      "2. 1~n단\n",
      "3. n~m단\n",
      "4. 프로그램 종료\n",
      "선택지를 골라주세요: 1\n",
      "몇 단을 출력할까요: 2\n",
      "=====2단=====\n",
      "2 * 1 = 2\n",
      "2 * 2 = 4\n",
      "2 * 3 = 6\n",
      "2 * 4 = 8\n",
      "2 * 5 = 10\n",
      "2 * 6 = 12\n",
      "2 * 7 = 14\n",
      "2 * 8 = 16\n",
      "2 * 9 = 18\n",
      "선택지를 골라주세요: 2\n",
      "몇 단까지 출력할까요: 3\n",
      "=====1단=====\n",
      "1 * 1 = 1\n",
      "1 * 2 = 2\n",
      "1 * 3 = 3\n",
      "1 * 4 = 4\n",
      "1 * 5 = 5\n",
      "1 * 6 = 6\n",
      "1 * 7 = 7\n",
      "1 * 8 = 8\n",
      "1 * 9 = 9\n",
      "=====2단=====\n",
      "2 * 1 = 2\n",
      "2 * 2 = 4\n",
      "2 * 3 = 6\n",
      "2 * 4 = 8\n",
      "2 * 5 = 10\n",
      "2 * 6 = 12\n",
      "2 * 7 = 14\n",
      "2 * 8 = 16\n",
      "2 * 9 = 18\n",
      "=====3단=====\n",
      "3 * 1 = 3\n",
      "3 * 2 = 6\n",
      "3 * 3 = 9\n",
      "3 * 4 = 12\n",
      "3 * 5 = 15\n",
      "3 * 6 = 18\n",
      "3 * 7 = 21\n",
      "3 * 8 = 24\n",
      "3 * 9 = 27\n",
      "선택지를 골라주세요: 3\n",
      "몇 단부터 출력할까요: 3\n",
      "몇 단까지 출력할까요: 4\n",
      "=====3단=====\n",
      "3 * 1 = 3\n",
      "3 * 2 = 6\n",
      "3 * 3 = 9\n",
      "3 * 4 = 12\n",
      "3 * 5 = 15\n",
      "3 * 6 = 18\n",
      "3 * 7 = 21\n",
      "3 * 8 = 24\n",
      "3 * 9 = 27\n",
      "=====4단=====\n",
      "4 * 1 = 4\n",
      "4 * 2 = 8\n",
      "4 * 3 = 12\n",
      "4 * 4 = 16\n",
      "4 * 5 = 20\n",
      "4 * 6 = 24\n",
      "4 * 7 = 28\n",
      "4 * 8 = 32\n",
      "4 * 9 = 36\n",
      "선택지를 골라주세요: 4\n",
      "프로그램을 종료합니다.\n"
     ]
    }
   ],
   "source": [
    "# 구구단 프로그램\n",
    "\n",
    "print('선택지 목록')\n",
    "print('=' * 20)\n",
    "print('1. n단\\n2. 1~n단\\n3. n~m단\\n4. 프로그램 종료')\n",
    "\n",
    "while True:\n",
    "    option = int(input('선택지를 골라주세요: '))\n",
    "    if option == 1:\n",
    "        n_mul = int(input('몇 단을 출력할까요: '))\n",
    "        print(f'====={n_mul}단=====')\n",
    "        for i in range(1, 10):\n",
    "            print(f'{n_mul} * {i} = {n_mul * i}')\n",
    "\n",
    "    elif option == 2:\n",
    "        n_mul = int(input('몇 단까지 출력할까요: '))\n",
    "        for j in range(1, n_mul+1):\n",
    "            print(f'====={j}단=====')\n",
    "            for k in range(1, 10):\n",
    "                print(f'{j} * {k} = {j * k}')\n",
    "\n",
    "    elif option == 3:\n",
    "        start_mul = int(input('몇 단부터 출력할까요: '))\n",
    "        end_mul = int(input('몇 단까지 출력할까요: '))\n",
    "        for m in range(start_mul, end_mul+1):\n",
    "            print(f'====={m}단=====')\n",
    "            for n in range(1, 10):\n",
    "                print(f'{m} * {n} = {m * n}')\n",
    "                \n",
    "    elif option == 4:\n",
    "        print('프로그램을 종료합니다.')\n",
    "        break\n",
    "        \n",
    "    else:\n",
    "        print('선택지를 잘못 입력하였습니다. 다시 골라주세요.')"
   ]
  },
  {
   "cell_type": "code",
   "execution_count": 21,
   "id": "5f417ace",
   "metadata": {},
   "outputs": [
    {
     "name": "stdout",
     "output_type": "stream",
     "text": [
      "\n",
      "안녕하세요, 외대 자판기입니다.\n",
      "===명령어목록===\n",
      "1. 구매 2. 종료\n",
      "무엇을 하시겠습니까: 1\n",
      "상품 목록입니다\n",
      "1.콜라 2.사이다 3.삼다수 4.쥬스\n",
      "무슨 상품을 구매하시겠습니까: 1\n",
      "해당 상품의 가격은 2500원 입니다.\n",
      "얼마를 넣으시겠습니까: 3000\n",
      "구매하였습니다. 잔돈은 500원 입니다.\n",
      "\n",
      "안녕하세요, 외대 자판기입니다.\n",
      "===명령어목록===\n",
      "1. 구매 2. 종료\n",
      "무엇을 하시겠습니까: 1\n",
      "상품 목록입니다\n",
      "1.콜라 2.사이다 3.삼다수 4.쥬스\n",
      "무슨 상품을 구매하시겠습니까: 1\n",
      "해당 삼품은 품절입니다.\n",
      "\n",
      "안녕하세요, 외대 자판기입니다.\n",
      "===명령어목록===\n",
      "1. 구매 2. 종료\n",
      "무엇을 하시겠습니까: 3\n",
      "유효하지 않은 명령입니다.\n",
      "\n",
      "안녕하세요, 외대 자판기입니다.\n",
      "===명령어목록===\n",
      "1. 구매 2. 종료\n",
      "무엇을 하시겠습니까: 1\n",
      "상품 목록입니다\n",
      "1.콜라 2.사이다 3.삼다수 4.쥬스\n",
      "무슨 상품을 구매하시겠습니까: 5\n",
      "유효하지 않은 명령입니다.\n",
      "\n",
      "안녕하세요, 외대 자판기입니다.\n",
      "===명령어목록===\n",
      "1. 구매 2. 종료\n",
      "무엇을 하시겠습니까: 1\n",
      "상품 목록입니다\n",
      "1.콜라 2.사이다 3.삼다수 4.쥬스\n",
      "무슨 상품을 구매하시겠습니까: 4\n",
      "해당 상품의 가격은 1000원 입니다.\n",
      "얼마를 넣으시겠습니까: 3000\n",
      "구매하였습니다. 잔돈은 2000원 입니다.\n",
      "\n",
      "안녕하세요, 외대 자판기입니다.\n",
      "===명령어목록===\n",
      "1. 구매 2. 종료\n",
      "무엇을 하시겠습니까: 1\n",
      "상품 목록입니다\n",
      "1.콜라 2.사이다 3.삼다수 4.쥬스\n",
      "무슨 상품을 구매하시겠습니까: 1\n",
      "해당 삼품은 품절입니다.\n",
      "\n",
      "안녕하세요, 외대 자판기입니다.\n",
      "===명령어목록===\n",
      "1. 구매 2. 종료\n",
      "무엇을 하시겠습니까: 1\n",
      "상품 목록입니다\n",
      "1.콜라 2.사이다 3.삼다수 4.쥬스\n",
      "무슨 상품을 구매하시겠습니까: 2\n",
      "해당 상품의 가격은 2000원 입니다.\n",
      "얼마를 넣으시겠습니까: 2000\n",
      "구매하였습니다.\n",
      "\n",
      "안녕하세요, 외대 자판기입니다.\n",
      "===명령어목록===\n",
      "1. 구매 2. 종료\n",
      "무엇을 하시겠습니까: 1\n",
      "상품 목록입니다\n",
      "1.콜라 2.사이다 3.삼다수 4.쥬스\n",
      "무슨 상품을 구매하시겠습니까: 3\n",
      "해당 상품의 가격은 500원 입니다.\n",
      "얼마를 넣으시겠습니까: 300\n",
      "돈이 모자랍니다.\n",
      "\n",
      "안녕하세요, 외대 자판기입니다.\n",
      "===명령어목록===\n",
      "1. 구매 2. 종료\n",
      "무엇을 하시겠습니까: 2\n",
      "프로그램을 종료합니다.\n"
     ]
    }
   ],
   "source": [
    "# 반복문 개인 연습\n",
    "item_list = ['콜라', '사이다', '삼다수', '쥬스']\n",
    "price_list = [2500, 2000, 500, 1000]\n",
    "item_nvm = [1, 10, 20, 10]\n",
    "\n",
    "while True:\n",
    "    print('\\n안녕하세요, 외대 자판기입니다.\\n===명령어목록===\\n1. 구매 2. 종료')\n",
    "    cmd = int(input('무엇을 하시겠습니까: '))\n",
    "    if cmd == 1:\n",
    "        print('상품 목록입니다\\n1.콜라 2.사이다 3.삼다수 4.쥬스')\n",
    "        option = int(input('무슨 상품을 구매하시겠습니까: '))\n",
    "        if option not in [1, 2, 3, 4]:\n",
    "            print('유효하지 않은 명령입니다.')\n",
    "            continue\n",
    "        if item_nvm[option-1] == 0:\n",
    "            print('해당 삼품은 품절입니다.')\n",
    "            continue\n",
    "        else:\n",
    "            print(f'해당 상품의 가격은 {price_list[option-1]}원 입니다.')\n",
    "            money = int(input('얼마를 넣으시겠습니까: '))\n",
    "            if money < price_list[option-1]:\n",
    "                print('돈이 모자랍니다.')\n",
    "                continue\n",
    "            elif money == price_list[option-1]:\n",
    "                print('구매하였습니다.')\n",
    "                item_nvm[option-1] -= 1\n",
    "            elif money > price_list[option-1]:\n",
    "                print(f'구매하였습니다. 잔돈은 {money - price_list[option-1]}원 입니다.')\n",
    "                item_nvm[option-1] -= 1\n",
    "    elif cmd == 2:\n",
    "        print('프로그램을 종료합니다.')\n",
    "        break\n",
    "    else:\n",
    "        print('유효하지 않은 명령입니다.')\n",
    "        continue"
   ]
  },
  {
   "cell_type": "markdown",
   "id": "c1767664",
   "metadata": {},
   "source": [
    "## print formatting\n",
    "\n",
    "- f string\n",
    "    - f, F 모두 사용 가능\n",
    "    - f'{var}'\n",
    "- format\n",
    "    - {}.format(var)\n",
    "- %\n",
    "    - '%type' %var\n",
    "    \n",
    "* \"A\", \"B\", \"C\" 사용금지"
   ]
  },
  {
   "cell_type": "code",
   "execution_count": 24,
   "id": "6e8487fc",
   "metadata": {},
   "outputs": [
    {
     "name": "stdout",
     "output_type": "stream",
     "text": [
      "input your name: song\n",
      "input your address: seoul\n",
      "song lives in seoul\n",
      "song lives in seoul\n",
      "song lives in seoul\n"
     ]
    }
   ],
   "source": [
    "name = input('input your name: ')\n",
    "address = input('input your address: ')\n",
    "\n",
    "print(f'{name} lives in {address}')\n",
    "print('{} lives in {}'.format(name, address))\n",
    "print('%s lives in %s' % (name, address))"
   ]
  },
  {
   "cell_type": "markdown",
   "id": "dba095f9",
   "metadata": {},
   "source": [
    "## Corpus\n",
    "\n",
    "- 종류\n",
    "    - gutenberg\n",
    "    - brown\n",
    "    - inaugural\n",
    "\n",
    "- 함수\n",
    "    - words()\n",
    "    - sents()\n",
    "    - fields()\n",
    "    - raw()"
   ]
  },
  {
   "cell_type": "code",
   "execution_count": 2,
   "id": "ac49c3c1",
   "metadata": {},
   "outputs": [
    {
     "data": {
      "text/plain": [
       "True"
      ]
     },
     "execution_count": 2,
     "metadata": {},
     "output_type": "execute_result"
    }
   ],
   "source": [
    "import nltk\n",
    "from nltk.corpus import gutenberg\n",
    "from nltk.corpus import brown\n",
    "\n",
    "nltk.download('gutenberg', quiet=True)\n",
    "nltk.download('brown', quiet=True)"
   ]
  },
  {
   "cell_type": "code",
   "execution_count": 3,
   "id": "8470f6f4",
   "metadata": {},
   "outputs": [
    {
     "name": "stdout",
     "output_type": "stream",
     "text": [
      "['[', 'Emma', 'by', 'Jane', 'Austen', '1816', ']', ...]\n",
      "192427\n",
      "['austen-emma.txt', 'austen-persuasion.txt', 'austen-sense.txt', 'bible-kjv.txt', 'blake-poems.txt', 'bryant-stories.txt', 'burgess-busterbrown.txt', 'carroll-alice.txt', 'chesterton-ball.txt', 'chesterton-brown.txt', 'chesterton-thursday.txt', 'edgeworth-parents.txt', 'melville-moby_dick.txt', 'milton-paradise.txt', 'shakespeare-caesar.txt', 'shakespeare-hamlet.txt', 'shakespeare-macbeth.txt', 'whitman-leaves.txt']\n"
     ]
    }
   ],
   "source": [
    "print(gutenberg.words())\n",
    "print(len(gutenberg.words(['austen-emma.txt'])))\n",
    "print(gutenberg.fileids())"
   ]
  },
  {
   "cell_type": "code",
   "execution_count": 4,
   "id": "f85dfcfc",
   "metadata": {},
   "outputs": [
    {
     "name": "stdout",
     "output_type": "stream",
     "text": [
      "austen-emma.txt | 글자수 = 887071 | 단어수 = 192427 | 문장수 = 7752\n",
      "austen-persuasion.txt | 글자수 = 466292 | 단어수 = 98171 | 문장수 = 3747\n",
      "austen-sense.txt | 글자수 = 673022 | 단어수 = 141576 | 문장수 = 4999\n",
      "bible-kjv.txt | 글자수 = 4332554 | 단어수 = 1010654 | 문장수 = 30103\n",
      "blake-poems.txt | 글자수 = 38153 | 단어수 = 8354 | 문장수 = 438\n",
      "bryant-stories.txt | 글자수 = 249439 | 단어수 = 55563 | 문장수 = 2863\n",
      "burgess-busterbrown.txt | 글자수 = 84663 | 단어수 = 18963 | 문장수 = 1054\n",
      "carroll-alice.txt | 글자수 = 144395 | 단어수 = 34110 | 문장수 = 1703\n",
      "chesterton-ball.txt | 글자수 = 457450 | 단어수 = 96996 | 문장수 = 4779\n",
      "chesterton-brown.txt | 글자수 = 406629 | 단어수 = 86063 | 문장수 = 3806\n",
      "chesterton-thursday.txt | 글자수 = 320525 | 단어수 = 69213 | 문장수 = 3742\n",
      "edgeworth-parents.txt | 글자수 = 935158 | 단어수 = 210663 | 문장수 = 10230\n",
      "melville-moby_dick.txt | 글자수 = 1242990 | 단어수 = 260819 | 문장수 = 10059\n",
      "milton-paradise.txt | 글자수 = 468220 | 단어수 = 96825 | 문장수 = 1851\n",
      "shakespeare-caesar.txt | 글자수 = 112310 | 단어수 = 25833 | 문장수 = 2163\n",
      "shakespeare-hamlet.txt | 글자수 = 162881 | 단어수 = 37360 | 문장수 = 3106\n",
      "shakespeare-macbeth.txt | 글자수 = 100351 | 단어수 = 23140 | 문장수 = 1907\n",
      "whitman-leaves.txt | 글자수 = 711215 | 단어수 = 154883 | 문장수 = 4250\n"
     ]
    }
   ],
   "source": [
    "for file in gutenberg.fileids():\n",
    "    ch_n = len(gutenberg.raw(file))\n",
    "    word_n = len(gutenberg.words(file))\n",
    "    sent_n = len(gutenberg.sents(file))\n",
    "    \n",
    "    print(f'{file} | 글자수 = {ch_n} | 단어수 = {word_n} | 문장수 = {sent_n}')"
   ]
  },
  {
   "cell_type": "code",
   "execution_count": 5,
   "id": "47b6146e",
   "metadata": {},
   "outputs": [
    {
     "name": "stdout",
     "output_type": "stream",
     "text": [
      "28\n"
     ]
    }
   ],
   "source": [
    "gutenberg_corpus = gutenberg.words(fileids = 'whitman-leaves.txt')\n",
    "fdist = nltk.FreqDist([word.lower() for word in gutenberg_corpus])\n",
    "print(fdist['tree'])"
   ]
  },
  {
   "cell_type": "code",
   "execution_count": 6,
   "id": "12e50fcd",
   "metadata": {},
   "outputs": [
    {
     "name": "stdout",
     "output_type": "stream",
     "text": [
      "['adventure', 'belles_lettres', 'editorial', 'fiction', 'government', 'hobbies', 'humor', 'learned', 'lore', 'mystery', 'news', 'religion', 'reviews', 'romance', 'science_fiction']\n"
     ]
    }
   ],
   "source": [
    "brown_corpus = nltk.corpus.brown\n",
    "print(brown_corpus.categories())"
   ]
  },
  {
   "cell_type": "code",
   "execution_count": 7,
   "id": "0c74daa3",
   "metadata": {},
   "outputs": [],
   "source": [
    "humor = brown_corpus.words(categories='humor')"
   ]
  },
  {
   "cell_type": "code",
   "execution_count": 8,
   "id": "820e64d1",
   "metadata": {},
   "outputs": [
    {
     "name": "stdout",
     "output_type": "stream",
     "text": [
      "can 17\n",
      "could 33\n",
      "may 8\n",
      "might 8\n",
      "will 13\n",
      "would 56\n"
     ]
    }
   ],
   "source": [
    "modals = ['can', 'could', 'may', 'might', 'will', 'would']\n",
    "\n",
    "fdist_brown = nltk.FreqDist([word.lower() for word in humor])\n",
    "\n",
    "for verb in modals:\n",
    "    print(verb, fdist_brown[verb])"
   ]
  },
  {
   "cell_type": "markdown",
   "id": "1ee6fb15",
   "metadata": {},
   "source": [
    "## conditional frequency distribution\n",
    "- 조건이 붙은 fdist"
   ]
  },
  {
   "cell_type": "code",
   "execution_count": 13,
   "id": "e5725716",
   "metadata": {},
   "outputs": [],
   "source": [
    "cfd = nltk.ConditionalFreqDist(\n",
    "    (genre, word.lower())\n",
    "    for genre in brown_corpus.categories()\n",
    "    for word in brown_corpus.words(categories=genre)\n",
    ")"
   ]
  },
  {
   "cell_type": "code",
   "execution_count": 15,
   "id": "0a2e0a29",
   "metadata": {},
   "outputs": [
    {
     "data": {
      "text/plain": [
       "3780"
      ]
     },
     "execution_count": 15,
     "metadata": {},
     "output_type": "execute_result"
    }
   ],
   "source": [
    "cfd['adventure']['the']"
   ]
  },
  {
   "cell_type": "code",
   "execution_count": 16,
   "id": "ff903e26",
   "metadata": {},
   "outputs": [
    {
     "name": "stdout",
     "output_type": "stream",
     "text": [
      "[('.', 4057), ('the', 3780), (',', 3488), ('and', 1706), ('a', 1432), ('of', 1327), ('to', 1322), ('he', 1283), ('``', 998), (\"''\", 995)]\n"
     ]
    }
   ],
   "source": [
    "print(cfd['adventure'].most_common(10))"
   ]
  },
  {
   "cell_type": "code",
   "execution_count": 18,
   "id": "a315422d",
   "metadata": {},
   "outputs": [
    {
     "name": "stdout",
     "output_type": "stream",
     "text": [
      "                 can could   may might  will would \n",
      "     adventure    48   154     7    59    51   194 \n",
      "belles_lettres   249   216   221   113   246   397 \n",
      "     editorial   124    57    79    39   235   185 \n"
     ]
    }
   ],
   "source": [
    "cfd.tabulate(conditions = brown_corpus.categories()[:3], samples = modals)"
   ]
  },
  {
   "cell_type": "code",
   "execution_count": 21,
   "id": "42700de8",
   "metadata": {},
   "outputs": [],
   "source": [
    "# cfd 개인 실습/연습\n",
    "\n",
    "cfd = nltk.ConditionalFreqDist(\n",
    "    (file, word.lower())\n",
    "    for file in gutenberg.fileids()\n",
    "    for word in gutenberg.words(file)\n",
    ")\n"
   ]
  },
  {
   "cell_type": "code",
   "execution_count": 22,
   "id": "689d1728",
   "metadata": {},
   "outputs": [
    {
     "name": "stdout",
     "output_type": "stream",
     "text": [
      "5201\n"
     ]
    }
   ],
   "source": [
    "print(cfd['austen-emma.txt']['the'])"
   ]
  },
  {
   "cell_type": "code",
   "execution_count": 27,
   "id": "c545b71c",
   "metadata": {},
   "outputs": [
    {
     "name": "stdout",
     "output_type": "stream",
     "text": [
      "austen-emma.txt 5201\n",
      "austen-persuasion.txt 3329\n",
      "austen-sense.txt 4105\n",
      "bible-kjv.txt 64023\n",
      "blake-poems.txt 439\n",
      "bryant-stories.txt 3451\n",
      "burgess-busterbrown.txt 660\n",
      "carroll-alice.txt 1642\n",
      "chesterton-ball.txt 4965\n",
      "chesterton-brown.txt 4670\n",
      "chesterton-thursday.txt 3636\n",
      "edgeworth-parents.txt 7728\n",
      "melville-moby_dick.txt 14431\n",
      "milton-paradise.txt 2968\n",
      "shakespeare-caesar.txt 579\n",
      "shakespeare-hamlet.txt 993\n",
      "shakespeare-macbeth.txt 650\n",
      "whitman-leaves.txt 10113\n"
     ]
    }
   ],
   "source": [
    "for i in gutenberg.fileids():\n",
    "    print(i, cfd[i]['the'])"
   ]
  },
  {
   "cell_type": "code",
   "execution_count": 28,
   "id": "778618d4",
   "metadata": {},
   "outputs": [
    {
     "name": "stdout",
     "output_type": "stream",
     "text": [
      "                        can could   may might  will would \n",
      "      austen-emma.txt   284   837   221   326   570   820 \n",
      "austen-persuasion.txt   107   451    87   166   167   355 \n",
      "     austen-sense.txt   218   578   175   215   363   515 \n"
     ]
    }
   ],
   "source": [
    "cfd.tabulate(conditions = gutenberg.fileids()[:3], samples = modals)"
   ]
  },
  {
   "cell_type": "code",
   "execution_count": null,
   "id": "af0aafbf",
   "metadata": {},
   "outputs": [],
   "source": []
  }
 ],
 "metadata": {
  "kernelspec": {
   "display_name": "Python 3 (ipykernel)",
   "language": "python",
   "name": "python3"
  },
  "language_info": {
   "codemirror_mode": {
    "name": "ipython",
    "version": 3
   },
   "file_extension": ".py",
   "mimetype": "text/x-python",
   "name": "python",
   "nbconvert_exporter": "python",
   "pygments_lexer": "ipython3",
   "version": "3.9.7"
  }
 },
 "nbformat": 4,
 "nbformat_minor": 5
}
